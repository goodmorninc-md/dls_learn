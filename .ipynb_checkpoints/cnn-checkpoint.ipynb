{
 "cells": [
  {
   "cell_type": "code",
   "execution_count": 1,
   "id": "03b9a058",
   "metadata": {},
   "outputs": [],
   "source": [
    "import torch\n",
    "import torchvision\n",
    "import torchvision.transforms as transforms"
   ]
  },
  {
   "cell_type": "markdown",
   "id": "fd9a70fb",
   "metadata": {},
   "source": [
    "## 准备数据"
   ]
  },
  {
   "cell_type": "code",
   "execution_count": 2,
   "id": "13925559",
   "metadata": {},
   "outputs": [],
   "source": [
    "# 将数据转化为张量并进行标准化\n",
    "transform = transforms.Compose([transforms.ToTensor(),transforms.Normalize((0.5,),(0.5,))])"
   ]
  },
  {
   "cell_type": "code",
   "execution_count": 13,
   "id": "62b9e52f",
   "metadata": {},
   "outputs": [],
   "source": [
    "# 加载训练集和测试集\n",
    "train_dataset = torchvision.datasets.MNIST(root='./data',train=True,download=True,transform=transform)\n",
    "test_dataset = torchvision.datasets.MNIST(root='./data',train=False,download=True,transform=transform)"
   ]
  },
  {
   "cell_type": "code",
   "execution_count": 14,
   "id": "f3f4e4b3",
   "metadata": {},
   "outputs": [],
   "source": [
    "# 创建数据加载器(DataLoader),用于批量加载数据\n",
    "train_loader = torch.utils.data.DataLoader(dataset=train_dataset,batch_size = 64,shuffle=True)\n",
    "test_loader = torch.utils.data.DataLoader(dataset=test_dataset,batch_size=64,shuffle=True)\n"
   ]
  },
  {
   "cell_type": "markdown",
   "id": "51abbb54",
   "metadata": {},
   "source": [
    "## 定义模型\n"
   ]
  },
  {
   "cell_type": "code",
   "execution_count": 15,
   "id": "35302392",
   "metadata": {},
   "outputs": [],
   "source": [
    "import torch.nn as nn\n",
    "import torch.nn.functional as F"
   ]
  },
  {
   "cell_type": "code",
   "execution_count": 16,
   "id": "738ae61d",
   "metadata": {},
   "outputs": [],
   "source": [
    "class CNNModel(nn.Module):\n",
    "    def __init__(self):\n",
    "        super(CNNModel,self).__init__()\n",
    "        # 灰度图输入通道为1\n",
    "        self.conv1 = nn.Conv2d(1,32,kernel_size=5)\n",
    "        self.conv2 = nn.Conv2d(32,64,kernel_size=5)\n",
    "        self.fc1 = nn.Linear(1024,128)\n",
    "        #输出层，10个分类\n",
    "        self.fc2 = nn.Linear(128,10)\n",
    "        \n",
    "    def forward(self,x):\n",
    "        # 经过第一层卷积，池化后并激活\n",
    "        # 池化后不改变通道数，第一层卷积输出通道数为32\n",
    "        x = F.relu(F.max_pool2d(self.conv1(x),2))\n",
    "        # 经过第二层卷积并激活\n",
    "        x = F.relu(F.max_pool2d(self.conv2(x),2))\n",
    "        # 展平\n",
    "        x = x.view(-1,1024)\n",
    "        x = F.relu(self.fc1(x))\n",
    "        x = self.fc2(x)\n",
    "        return x"
   ]
  },
  {
   "cell_type": "markdown",
   "id": "e28e9695",
   "metadata": {},
   "source": [
    "## 定义损失函数和损失器"
   ]
  },
  {
   "cell_type": "code",
   "execution_count": 17,
   "id": "5e2b2544",
   "metadata": {},
   "outputs": [],
   "source": [
    "model = CNNModel()\n",
    "\n",
    "criterion = nn.CrossEntropyLoss()\n",
    "\n",
    "optimizer = torch.optim.Adam(model.parameters(),lr=0.01)"
   ]
  },
  {
   "cell_type": "markdown",
   "id": "77c2240f",
   "metadata": {},
   "source": [
    "## 训练模型"
   ]
  },
  {
   "cell_type": "code",
   "execution_count": 21,
   "id": "be03c221",
   "metadata": {},
   "outputs": [
    {
     "name": "stdout",
     "output_type": "stream",
     "text": [
      "Epoch [1/5],step [100/938],loss: 0.0030\n",
      "Epoch [1/5],step [200/938],loss: 0.0004\n",
      "Epoch [1/5],step [300/938],loss: 0.0006\n",
      "Epoch [1/5],step [400/938],loss: 0.0016\n",
      "Epoch [1/5],step [500/938],loss: 0.0013\n",
      "Epoch [1/5],step [600/938],loss: 0.0008\n",
      "Epoch [1/5],step [700/938],loss: 0.0004\n",
      "Epoch [1/5],step [800/938],loss: 0.0015\n",
      "Epoch [1/5],step [900/938],loss: 0.0011\n",
      "Epoch [2/5],step [100/938],loss: 0.0012\n",
      "Epoch [2/5],step [200/938],loss: 0.0021\n",
      "Epoch [2/5],step [300/938],loss: 0.0005\n",
      "Epoch [2/5],step [400/938],loss: 0.0002\n",
      "Epoch [2/5],step [500/938],loss: 0.0010\n",
      "Epoch [2/5],step [600/938],loss: 0.0033\n",
      "Epoch [2/5],step [700/938],loss: 0.0004\n",
      "Epoch [2/5],step [800/938],loss: 0.0009\n",
      "Epoch [2/5],step [900/938],loss: 0.0005\n",
      "Epoch [3/5],step [100/938],loss: 0.0009\n",
      "Epoch [3/5],step [200/938],loss: 0.0010\n",
      "Epoch [3/5],step [300/938],loss: 0.0002\n",
      "Epoch [3/5],step [400/938],loss: 0.0003\n",
      "Epoch [3/5],step [500/938],loss: 0.0023\n",
      "Epoch [3/5],step [600/938],loss: 0.0005\n",
      "Epoch [3/5],step [700/938],loss: 0.0012\n",
      "Epoch [3/5],step [800/938],loss: 0.0008\n",
      "Epoch [3/5],step [900/938],loss: 0.0008\n",
      "Epoch [4/5],step [100/938],loss: 0.0009\n",
      "Epoch [4/5],step [200/938],loss: 0.0003\n",
      "Epoch [4/5],step [300/938],loss: 0.0014\n",
      "Epoch [4/5],step [400/938],loss: 0.0010\n",
      "Epoch [4/5],step [500/938],loss: 0.0001\n",
      "Epoch [4/5],step [600/938],loss: 0.0012\n",
      "Epoch [4/5],step [700/938],loss: 0.0005\n",
      "Epoch [4/5],step [800/938],loss: 0.0004\n",
      "Epoch [4/5],step [900/938],loss: 0.0001\n",
      "Epoch [5/5],step [100/938],loss: 0.0014\n",
      "Epoch [5/5],step [200/938],loss: 0.0005\n",
      "Epoch [5/5],step [300/938],loss: 0.0003\n",
      "Epoch [5/5],step [400/938],loss: 0.0001\n",
      "Epoch [5/5],step [500/938],loss: 0.0004\n",
      "Epoch [5/5],step [600/938],loss: 0.0003\n",
      "Epoch [5/5],step [700/938],loss: 0.0017\n",
      "Epoch [5/5],step [800/938],loss: 0.0041\n",
      "Epoch [5/5],step [900/938],loss: 0.0023\n",
      "finished Training\n"
     ]
    }
   ],
   "source": [
    "num_epochs = 5\n",
    "\n",
    "for epoch in range(num_epochs):\n",
    "    running_loss = 0.0\n",
    "    for i ,(images,labels) in enumerate(train_loader):\n",
    "        #图像与标签传给模型\n",
    "        outputs = model(images)\n",
    "        loss = criterion(outputs,labels)\n",
    "        \n",
    "        \n",
    "        #梯度清零\n",
    "        optimizer.zero_grad()\n",
    "        \n",
    "        #反向传播梯度\n",
    "        loss.backward()\n",
    "        optimizer.step()\n",
    "        running_loss=loss.item()\n",
    "        \n",
    "        if i %100 ==99:\n",
    "            print(f'Epoch [{epoch+1}/{num_epochs}],step [{i+1}/{len(train_loader)}],loss: {running_loss/100:.4f}')\n",
    "            running_loss=0.0\n",
    "print('finished Training')"
   ]
  },
  {
   "cell_type": "markdown",
   "id": "15276a1d",
   "metadata": {},
   "source": [
    "## 评估模型"
   ]
  },
  {
   "cell_type": "code",
   "execution_count": 23,
   "id": "11eba35a",
   "metadata": {},
   "outputs": [
    {
     "name": "stdout",
     "output_type": "stream",
     "text": [
      "Accuracy of the model on the test images:97.38%\n"
     ]
    }
   ],
   "source": [
    "correct =0\n",
    "total=0\n",
    "\n",
    "with torch.no_grad():\n",
    "    for images,labels in test_loader:\n",
    "        outputs = model(images)\n",
    "        _,predicted = torch.max(outputs.data,1)\n",
    "        total +=labels.size(0)\n",
    "        correct +=(predicted==labels).sum().item()\n",
    "print(f'Accuracy of the model on the test images:{100 * correct / total:.2f}%')"
   ]
  },
  {
   "cell_type": "code",
   "execution_count": null,
   "id": "4bc09a02",
   "metadata": {},
   "outputs": [],
   "source": []
  }
 ],
 "metadata": {
  "kernelspec": {
   "display_name": "torch_learn",
   "language": "python",
   "name": "torch_learn"
  },
  "language_info": {
   "codemirror_mode": {
    "name": "ipython",
    "version": 3
   },
   "file_extension": ".py",
   "mimetype": "text/x-python",
   "name": "python",
   "nbconvert_exporter": "python",
   "pygments_lexer": "ipython3",
   "version": "3.10.4"
  }
 },
 "nbformat": 4,
 "nbformat_minor": 5
}
