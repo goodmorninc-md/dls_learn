{
 "cells": [
  {
   "cell_type": "code",
   "execution_count": 1,
   "id": "2eb2e47e",
   "metadata": {},
   "outputs": [],
   "source": [
    "import torch\n",
    "import torch.nn as nn\n",
    "import torchvision\n",
    "import torchvision.transforms as transforms"
   ]
  },
  {
   "cell_type": "code",
   "execution_count": 2,
   "id": "14e12cbf",
   "metadata": {},
   "outputs": [],
   "source": [
    "device = torch.device('cuda' if torch.cuda.is_available() else 'cpu')"
   ]
  },
  {
   "cell_type": "code",
   "execution_count": 3,
   "id": "d7b191bd",
   "metadata": {},
   "outputs": [
    {
     "data": {
      "text/plain": [
       "device(type='cuda')"
      ]
     },
     "execution_count": 3,
     "metadata": {},
     "output_type": "execute_result"
    }
   ],
   "source": [
    "device"
   ]
  },
  {
   "cell_type": "code",
   "execution_count": 5,
   "id": "b4492d06",
   "metadata": {},
   "outputs": [],
   "source": [
    "input_size=784\n",
    "hidden_size=600\n",
    "num_classes=10\n",
    "num_epochs=5\n",
    "batch_size=100\n",
    "learning_rate = 0.001"
   ]
  },
  {
   "cell_type": "code",
   "execution_count": 8,
   "id": "717aa5d8",
   "metadata": {},
   "outputs": [],
   "source": [
    "train_dataset = torchvision.datasets.MNIST(root=\"./MNIST\",\n",
    "                                           train=True,\n",
    "                                           download=True,\n",
    "                                           transform=transforms.ToTensor())"
   ]
  },
  {
   "cell_type": "code",
   "execution_count": 9,
   "id": "8d4769d1",
   "metadata": {},
   "outputs": [],
   "source": [
    "test_dataset = torchvision.datasets.MNIST(root=\"./MNIST\",\n",
    "                                           train=False,\n",
    "                                           download=True,\n",
    "                                           transform=transforms.ToTensor())"
   ]
  },
  {
   "cell_type": "code",
   "execution_count": 10,
   "id": "ba162183",
   "metadata": {},
   "outputs": [],
   "source": [
    "train_loader = torch.utils.data.DataLoader(dataset=train_dataset,shuffle=True,\n",
    "                                          batch_size=batch_size)"
   ]
  },
  {
   "cell_type": "code",
   "execution_count": 11,
   "id": "1d2a72bc",
   "metadata": {},
   "outputs": [],
   "source": [
    "test_loader = torch.utils.data.DataLoader(dataset=test_dataset,shuffle=True,\n",
    "                                          batch_size=batch_size)"
   ]
  },
  {
   "cell_type": "code",
   "execution_count": 23,
   "id": "fd2dab82",
   "metadata": {},
   "outputs": [],
   "source": [
    "class NeuralNet(nn.Module):\n",
    "    def __init__(self,input_size,hidden_size,num_classes):\n",
    "        super(NeuralNet,self).__init__()\n",
    "        self.fc1=nn.Linear(input_size,hidden_size)\n",
    "        self.relu=nn.ReLU()\n",
    "        self.fc2=nn.Linear(hidden_size,num_classes)\n",
    "    \n",
    "    def forward(self,x):\n",
    "        out = self.fc1(x)\n",
    "        out = self.relu(out)\n",
    "        out = self.fc2(out)\n",
    "        return out"
   ]
  },
  {
   "cell_type": "code",
   "execution_count": 24,
   "id": "b336cbf7",
   "metadata": {},
   "outputs": [],
   "source": [
    "model = NeuralNet(input_size,hidden_size,num_classes).to(device)"
   ]
  },
  {
   "cell_type": "code",
   "execution_count": 25,
   "id": "7b422725",
   "metadata": {},
   "outputs": [],
   "source": [
    "criterion = nn.CrossEntropyLoss()\n",
    "optimizer = torch.optim.Adam(model.parameters(),lr=learning_rate)\n"
   ]
  },
  {
   "cell_type": "code",
   "execution_count": 29,
   "id": "9b7b8f21",
   "metadata": {},
   "outputs": [
    {
     "name": "stdout",
     "output_type": "stream",
     "text": [
      "Epoch [1/5], Step [100/600], Loss: 0.0069\n",
      "Epoch [1/5], Step [200/600], Loss: 0.0025\n",
      "Epoch [1/5], Step [300/600], Loss: 0.0068\n",
      "Epoch [1/5], Step [400/600], Loss: 0.0027\n",
      "Epoch [1/5], Step [500/600], Loss: 0.0089\n",
      "Epoch [1/5], Step [600/600], Loss: 0.0074\n",
      "Epoch [2/5], Step [100/600], Loss: 0.0041\n",
      "Epoch [2/5], Step [200/600], Loss: 0.0023\n",
      "Epoch [2/5], Step [300/600], Loss: 0.0007\n",
      "Epoch [2/5], Step [400/600], Loss: 0.0008\n",
      "Epoch [2/5], Step [500/600], Loss: 0.0256\n",
      "Epoch [2/5], Step [600/600], Loss: 0.0027\n",
      "Epoch [3/5], Step [100/600], Loss: 0.0017\n",
      "Epoch [3/5], Step [200/600], Loss: 0.0047\n",
      "Epoch [3/5], Step [300/600], Loss: 0.0048\n",
      "Epoch [3/5], Step [400/600], Loss: 0.0001\n",
      "Epoch [3/5], Step [500/600], Loss: 0.0007\n",
      "Epoch [3/5], Step [600/600], Loss: 0.0021\n",
      "Epoch [4/5], Step [100/600], Loss: 0.0031\n",
      "Epoch [4/5], Step [200/600], Loss: 0.0010\n",
      "Epoch [4/5], Step [300/600], Loss: 0.0088\n",
      "Epoch [4/5], Step [400/600], Loss: 0.0038\n",
      "Epoch [4/5], Step [500/600], Loss: 0.0016\n",
      "Epoch [4/5], Step [600/600], Loss: 0.0218\n",
      "Epoch [5/5], Step [100/600], Loss: 0.0136\n",
      "Epoch [5/5], Step [200/600], Loss: 0.0048\n",
      "Epoch [5/5], Step [300/600], Loss: 0.0111\n",
      "Epoch [5/5], Step [400/600], Loss: 0.0017\n",
      "Epoch [5/5], Step [500/600], Loss: 0.0104\n",
      "Epoch [5/5], Step [600/600], Loss: 0.0003\n"
     ]
    }
   ],
   "source": [
    "total_step = len(train_loader)\n",
    "for epoch in range(num_epochs):\n",
    "    for i,(images,labels) in enumerate(train_loader):\n",
    "        images = images.reshape(-1,28*28).to(device)\n",
    "        labels = labels.to(device)\n",
    "        \n",
    "        outputs = model(images)\n",
    "        loss = criterion(outputs,labels)\n",
    "        \n",
    "        optimizer.zero_grad()\n",
    "        loss.backward()\n",
    "        optimizer.step()\n",
    "        if (i+1) % 100 == 0:\n",
    "            print ('Epoch [{}/{}], Step [{}/{}], Loss: {:.4f}' \n",
    "                   .format(epoch+1, num_epochs, i+1, total_step, loss.item()))\n",
    "\n",
    "        "
   ]
  },
  {
   "cell_type": "code",
   "execution_count": 30,
   "id": "dff3ff4f",
   "metadata": {},
   "outputs": [
    {
     "name": "stdout",
     "output_type": "stream",
     "text": [
      "Accuracy of the network on the 10000 test images: 98.11000061035156 %\n"
     ]
    }
   ],
   "source": [
    "with torch.no_grad():\n",
    "    correct = 0\n",
    "    total =0\n",
    "    for images,labels in test_loader:\n",
    "        images = images.reshape(-1,28*28).to(device)\n",
    "        labels = labels.to(device)\n",
    "        \n",
    "        outputs=  model(images)\n",
    "        _,predicted = torch.max(outputs,1)\n",
    "        total +=labels.size(0)\n",
    "        correct += (predicted==labels).sum()\n",
    "    print('Accuracy of the network on the 10000 test images: {} %'.format(100 * correct / total))\n"
   ]
  },
  {
   "cell_type": "code",
   "execution_count": 31,
   "id": "380f928d",
   "metadata": {},
   "outputs": [],
   "source": [
    "# Save the model checkpoint\n",
    "torch.save(model.state_dict(),\"forward_neural.ckpt\")"
   ]
  },
  {
   "cell_type": "code",
   "execution_count": null,
   "id": "d6eb88e1",
   "metadata": {},
   "outputs": [],
   "source": []
  }
 ],
 "metadata": {
  "kernelspec": {
   "display_name": "torch_learn",
   "language": "python",
   "name": "torch_learn"
  },
  "language_info": {
   "codemirror_mode": {
    "name": "ipython",
    "version": 3
   },
   "file_extension": ".py",
   "mimetype": "text/x-python",
   "name": "python",
   "nbconvert_exporter": "python",
   "pygments_lexer": "ipython3",
   "version": "3.10.4"
  }
 },
 "nbformat": 4,
 "nbformat_minor": 5
}
