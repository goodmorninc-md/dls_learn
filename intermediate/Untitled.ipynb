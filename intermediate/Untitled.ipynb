{
 "cells": [
  {
   "cell_type": "code",
   "execution_count": 16,
   "id": "1fbd9e0d",
   "metadata": {},
   "outputs": [],
   "source": [
    "import torch\n",
    "import numpy as np\n",
    "import torch.nn as nn\n",
    "import torchvision\n",
    "import torchvision.transforms as transforms"
   ]
  },
  {
   "cell_type": "code",
   "execution_count": 17,
   "id": "ea8c2924",
   "metadata": {},
   "outputs": [],
   "source": [
    "device = torch.device(\"cuda\" if torch.cuda.is_available() else \"cpu\")"
   ]
  },
  {
   "cell_type": "code",
   "execution_count": 78,
   "id": "a3505cfb",
   "metadata": {},
   "outputs": [],
   "source": [
    "num_epochs=5\n",
    "num_classes = 10\n",
    "batch_size=100\n",
    "learning_rate= 0.01"
   ]
  },
  {
   "cell_type": "code",
   "execution_count": 79,
   "id": "306f0d1a",
   "metadata": {},
   "outputs": [
    {
     "data": {
      "text/plain": [
       "torch.Size([1, 28, 28])"
      ]
     },
     "execution_count": 79,
     "metadata": {},
     "output_type": "execute_result"
    }
   ],
   "source": [
    "train_dataset = torchvision.datasets.MNIST(train=True,\n",
    "                                           root=\"../MNIST\",\n",
    "                                          download=True,\n",
    "                                           transform=transforms.ToTensor()\n",
    "                                          )\n",
    "train_dataset[0][0].size()"
   ]
  },
  {
   "cell_type": "code",
   "execution_count": 80,
   "id": "ea9887de",
   "metadata": {},
   "outputs": [],
   "source": [
    "test_dataset = torchvision.datasets.MNIST(train=False,\n",
    "                                         root=\"../MNIST/\",\n",
    "                                         download=True,\n",
    "                                         transform=transforms.ToTensor())"
   ]
  },
  {
   "cell_type": "code",
   "execution_count": 81,
   "id": "22ca9b45",
   "metadata": {},
   "outputs": [],
   "source": [
    "train_loader = torch.utils.data.DataLoader(dataset = train_dataset,\n",
    "                                           batch_size=batch_size,\n",
    "                                           shuffle=True,)"
   ]
  },
  {
   "cell_type": "code",
   "execution_count": 82,
   "id": "18208f0f",
   "metadata": {},
   "outputs": [],
   "source": [
    "test_loader = torch.utils.data.DataLoader(dataset=test_dataset,\n",
    "                                          batch_size=batch_size,\n",
    "                                          shuffle=False)"
   ]
  },
  {
   "cell_type": "code",
   "execution_count": 83,
   "id": "513fd04f",
   "metadata": {},
   "outputs": [],
   "source": [
    "class ConvNet(nn.Module):\n",
    "    def __init__(self,num_classes=10):\n",
    "        super(ConvNet,self).__init__()\n",
    "        self.layer1 = nn.Sequential(\n",
    "            nn.Conv2d(1,16,kernel_size=5,stride=1,padding=2),\n",
    "            nn.BatchNorm2d(16),\n",
    "            nn.ReLU(),\n",
    "            nn.MaxPool2d(kernel_size=2,stride=2),\n",
    "        )\n",
    "        self.layer2 =nn.Sequential(\n",
    "            nn.Conv2d(16,32,kernel_size=5,stride=1,padding=2),\n",
    "            nn.BatchNorm2d(32),\n",
    "            nn.ReLU(),\n",
    "            nn.MaxPool2d(kernel_size=2,stride=2)\n",
    "        )\n",
    "        # 输入是1个通道的28*28的灰度图，经过两次5*5步长为1的卷积\n",
    "        self.fc = nn.Linear(7*32*7,num_classes)\n",
    "    \n",
    "    def forward(self,x):\n",
    "        out = self.layer1(x)\n",
    "#         print(out.size())\n",
    "        out = self.layer2(out)\n",
    "#         print(out.size())\n",
    "        out = out.reshape(out.size(0),-1)\n",
    "#         print(out.size())\n",
    "        out = self.fc(out)\n",
    "        return out"
   ]
  },
  {
   "cell_type": "code",
   "execution_count": 84,
   "id": "aeb330e2",
   "metadata": {},
   "outputs": [],
   "source": [
    "model = ConvNet(num_classes).to(device)\n",
    "criterion = nn.CrossEntropyLoss()\n",
    "optimizer = torch.optim.Adam(model.parameters(),lr=learning_rate)"
   ]
  },
  {
   "cell_type": "code",
   "execution_count": 85,
   "id": "cb096cd4",
   "metadata": {},
   "outputs": [
    {
     "name": "stdout",
     "output_type": "stream",
     "text": [
      "Epoch[1/5],Step[100/600],loss:0.3682\n",
      "Epoch[1/5],Step[200/600],loss:0.1478\n",
      "Epoch[1/5],Step[300/600],loss:0.1171\n",
      "Epoch[1/5],Step[400/600],loss:0.0554\n",
      "Epoch[1/5],Step[500/600],loss:0.0219\n",
      "Epoch[1/5],Step[600/600],loss:0.0911\n",
      "Epoch[2/5],Step[100/600],loss:0.0551\n",
      "Epoch[2/5],Step[200/600],loss:0.0241\n",
      "Epoch[2/5],Step[300/600],loss:0.0227\n",
      "Epoch[2/5],Step[400/600],loss:0.0505\n",
      "Epoch[2/5],Step[500/600],loss:0.0160\n",
      "Epoch[2/5],Step[600/600],loss:0.0539\n",
      "Epoch[3/5],Step[100/600],loss:0.0294\n",
      "Epoch[3/5],Step[200/600],loss:0.0020\n",
      "Epoch[3/5],Step[300/600],loss:0.0945\n",
      "Epoch[3/5],Step[400/600],loss:0.0092\n",
      "Epoch[3/5],Step[500/600],loss:0.0682\n",
      "Epoch[3/5],Step[600/600],loss:0.1539\n",
      "Epoch[4/5],Step[100/600],loss:0.0133\n",
      "Epoch[4/5],Step[200/600],loss:0.0015\n",
      "Epoch[4/5],Step[300/600],loss:0.0017\n",
      "Epoch[4/5],Step[400/600],loss:0.0288\n",
      "Epoch[4/5],Step[500/600],loss:0.0601\n",
      "Epoch[4/5],Step[600/600],loss:0.0350\n",
      "Epoch[5/5],Step[100/600],loss:0.0443\n",
      "Epoch[5/5],Step[200/600],loss:0.0157\n",
      "Epoch[5/5],Step[300/600],loss:0.0528\n",
      "Epoch[5/5],Step[400/600],loss:0.0047\n",
      "Epoch[5/5],Step[500/600],loss:0.0188\n",
      "Epoch[5/5],Step[600/600],loss:0.0151\n"
     ]
    }
   ],
   "source": [
    "length = len(train_loader)\n",
    "for epoch in range(num_epochs):\n",
    "    for j ,(images,labels) in enumerate(train_loader):\n",
    "        images = images.to(device)\n",
    "        label=labels.to(device)\n",
    "        \n",
    "        outputs = model(images)\n",
    "        loss = criterion(outputs,label)\n",
    "        \n",
    "        optimizer.zero_grad()\n",
    "        loss.backward()\n",
    "        optimizer.step()\n",
    "        \n",
    "        if(j+1)%100==0:\n",
    "            print(\"Epoch[{}/{}],Step[{}/{}],loss:{:.4f}\".format(epoch+1,num_epochs,j+1,length,loss.item()))"
   ]
  },
  {
   "cell_type": "code",
   "execution_count": 86,
   "id": "33c822f5",
   "metadata": {},
   "outputs": [
    {
     "data": {
      "text/plain": [
       "ConvNet(\n",
       "  (layer1): Sequential(\n",
       "    (0): Conv2d(1, 16, kernel_size=(5, 5), stride=(1, 1), padding=(2, 2))\n",
       "    (1): BatchNorm2d(16, eps=1e-05, momentum=0.1, affine=True, track_running_stats=True)\n",
       "    (2): ReLU()\n",
       "    (3): MaxPool2d(kernel_size=2, stride=2, padding=0, dilation=1, ceil_mode=False)\n",
       "  )\n",
       "  (layer2): Sequential(\n",
       "    (0): Conv2d(16, 32, kernel_size=(5, 5), stride=(1, 1), padding=(2, 2))\n",
       "    (1): BatchNorm2d(32, eps=1e-05, momentum=0.1, affine=True, track_running_stats=True)\n",
       "    (2): ReLU()\n",
       "    (3): MaxPool2d(kernel_size=2, stride=2, padding=0, dilation=1, ceil_mode=False)\n",
       "  )\n",
       "  (fc): Linear(in_features=1568, out_features=10, bias=True)\n",
       ")"
      ]
     },
     "execution_count": 86,
     "metadata": {},
     "output_type": "execute_result"
    }
   ],
   "source": [
    "model.eval()"
   ]
  },
  {
   "cell_type": "code",
   "execution_count": 88,
   "id": "06402fe7",
   "metadata": {},
   "outputs": [
    {
     "name": "stdout",
     "output_type": "stream",
     "text": [
      "Test Accuracy of the model on the 10000 test images: 99.11 %\n"
     ]
    }
   ],
   "source": [
    "with torch.no_grad():\n",
    "    correct =0\n",
    "    total = 0\n",
    "    for images,labels in test_loader:\n",
    "        images = images.to(device)\n",
    "        labels=labels.to(device)\n",
    "        \n",
    "        outputs = model(images)\n",
    "        _,pred = torch.max(outputs,1)\n",
    "        correct += (pred==labels).sum().item()\n",
    "        total+=labels.size(0)\n",
    "    print('Test Accuracy of the model on the 10000 test images: {} %'.format(100 * correct / total))\n"
   ]
  },
  {
   "cell_type": "code",
   "execution_count": null,
   "id": "e21bb23a",
   "metadata": {},
   "outputs": [],
   "source": [
    "# Save the model checkpoint\n",
    "torch.save(model.state_dict(), 'cnn.ckpt')"
   ]
  }
 ],
 "metadata": {
  "kernelspec": {
   "display_name": "Python 3 (ipykernel)",
   "language": "python",
   "name": "python3"
  },
  "language_info": {
   "codemirror_mode": {
    "name": "ipython",
    "version": 3
   },
   "file_extension": ".py",
   "mimetype": "text/x-python",
   "name": "python",
   "nbconvert_exporter": "python",
   "pygments_lexer": "ipython3",
   "version": "3.10.4"
  }
 },
 "nbformat": 4,
 "nbformat_minor": 5
}
