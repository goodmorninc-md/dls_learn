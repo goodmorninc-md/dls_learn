{
 "cells": [
  {
   "cell_type": "code",
   "execution_count": 1,
   "id": "c7429fe8",
   "metadata": {},
   "outputs": [],
   "source": [
    "import torch\n",
    "import numpy as np"
   ]
  },
  {
   "cell_type": "code",
   "execution_count": 2,
   "id": "fba9bd9e",
   "metadata": {},
   "outputs": [
    {
     "data": {
      "text/plain": [
       "True"
      ]
     },
     "execution_count": 2,
     "metadata": {},
     "output_type": "execute_result"
    }
   ],
   "source": [
    "torch.cuda.is_available()"
   ]
  },
  {
   "cell_type": "code",
   "execution_count": 3,
   "id": "68d25494",
   "metadata": {},
   "outputs": [
    {
     "data": {
      "text/plain": [
       "'2.4.1+cu124'"
      ]
     },
     "execution_count": 3,
     "metadata": {},
     "output_type": "execute_result"
    }
   ],
   "source": [
    "torch.__version__"
   ]
  },
  {
   "cell_type": "markdown",
   "id": "a4dcbaca",
   "metadata": {},
   "source": [
    "# 创建向量"
   ]
  },
  {
   "cell_type": "code",
   "execution_count": 4,
   "id": "ee668484",
   "metadata": {},
   "outputs": [
    {
     "data": {
      "text/plain": [
       "tensor([[0., 0., 0.],\n",
       "        [0., 0., 0.],\n",
       "        [0., 0., 0.]])"
      ]
     },
     "execution_count": 4,
     "metadata": {},
     "output_type": "execute_result"
    }
   ],
   "source": [
    "torch.zeros(3,3)"
   ]
  },
  {
   "cell_type": "code",
   "execution_count": 5,
   "id": "2b30a06d",
   "metadata": {},
   "outputs": [],
   "source": [
    "a = torch.randn(2,3)"
   ]
  },
  {
   "cell_type": "code",
   "execution_count": 6,
   "id": "564bc98c",
   "metadata": {},
   "outputs": [
    {
     "data": {
      "text/plain": [
       "tensor([[ 0.0581,  0.2413, -0.4381],\n",
       "        [ 1.2668, -0.9897, -1.1895]])"
      ]
     },
     "execution_count": 6,
     "metadata": {},
     "output_type": "execute_result"
    }
   ],
   "source": [
    "a"
   ]
  },
  {
   "cell_type": "code",
   "execution_count": 7,
   "id": "607033e4",
   "metadata": {
    "scrolled": true
   },
   "outputs": [
    {
     "name": "stdout",
     "output_type": "stream",
     "text": [
      "2\n"
     ]
    },
    {
     "data": {
      "text/plain": [
       "torch.float32"
      ]
     },
     "execution_count": 7,
     "metadata": {},
     "output_type": "execute_result"
    }
   ],
   "source": [
    "#打印形状\n",
    "print(a.ndim)\n",
    "# 打印类型\n",
    "a.dtype"
   ]
  },
  {
   "cell_type": "code",
   "execution_count": 8,
   "id": "6d9e7eda",
   "metadata": {},
   "outputs": [
    {
     "data": {
      "text/plain": [
       "torch.Size([2, 3])"
      ]
     },
     "execution_count": 8,
     "metadata": {},
     "output_type": "execute_result"
    }
   ],
   "source": [
    "a.shape"
   ]
  },
  {
   "cell_type": "code",
   "execution_count": 9,
   "id": "10e3ff02",
   "metadata": {},
   "outputs": [
    {
     "data": {
      "text/plain": [
       "torch.Size([2, 3])"
      ]
     },
     "execution_count": 9,
     "metadata": {},
     "output_type": "execute_result"
    }
   ],
   "source": [
    "a.size()"
   ]
  },
  {
   "cell_type": "code",
   "execution_count": 10,
   "id": "2f3491a3",
   "metadata": {},
   "outputs": [
    {
     "data": {
      "text/plain": [
       "2"
      ]
     },
     "execution_count": 10,
     "metadata": {},
     "output_type": "execute_result"
    }
   ],
   "source": [
    "a.dim()"
   ]
  },
  {
   "cell_type": "code",
   "execution_count": 11,
   "id": "70206954",
   "metadata": {},
   "outputs": [
    {
     "data": {
      "text/plain": [
       "tensor([[ 0.0581,  0.2413, -0.4381],\n",
       "        [ 1.2668, -0.9897, -1.1895]])"
      ]
     },
     "execution_count": 11,
     "metadata": {},
     "output_type": "execute_result"
    }
   ],
   "source": [
    "a"
   ]
  },
  {
   "cell_type": "code",
   "execution_count": 12,
   "id": "50689da4",
   "metadata": {},
   "outputs": [
    {
     "data": {
      "text/plain": [
       "tensor([[0., 0., 0.],\n",
       "        [0., 0., 0.],\n",
       "        [0., 0., 0.]])"
      ]
     },
     "execution_count": 12,
     "metadata": {},
     "output_type": "execute_result"
    }
   ],
   "source": [
    "torch.zeros(3,3)"
   ]
  },
  {
   "cell_type": "code",
   "execution_count": 13,
   "id": "5f83cbd4",
   "metadata": {},
   "outputs": [
    {
     "data": {
      "text/plain": [
       "tensor([[1., 1., 1.],\n",
       "        [1., 1., 1.],\n",
       "        [1., 1., 1.]])"
      ]
     },
     "execution_count": 13,
     "metadata": {},
     "output_type": "execute_result"
    }
   ],
   "source": [
    "torch.ones(3,3)"
   ]
  },
  {
   "cell_type": "code",
   "execution_count": 14,
   "id": "5bb52ac3",
   "metadata": {},
   "outputs": [
    {
     "data": {
      "text/plain": [
       "tensor([[1., 0., 0.],\n",
       "        [0., 1., 0.],\n",
       "        [0., 0., 1.]])"
      ]
     },
     "execution_count": 14,
     "metadata": {},
     "output_type": "execute_result"
    }
   ],
   "source": [
    "torch.eye(3,3)"
   ]
  },
  {
   "cell_type": "code",
   "execution_count": 15,
   "id": "28c8d706",
   "metadata": {},
   "outputs": [
    {
     "data": {
      "text/plain": [
       "tensor([[1., 0., 0.],\n",
       "        [0., 1., 0.],\n",
       "        [0., 0., 1.]])"
      ]
     },
     "execution_count": 15,
     "metadata": {},
     "output_type": "execute_result"
    }
   ],
   "source": [
    "torch.eye(3)"
   ]
  },
  {
   "cell_type": "code",
   "execution_count": 16,
   "id": "32195c6d",
   "metadata": {},
   "outputs": [],
   "source": [
    "# b为随机生成一个2行3列的浮点数张量\n",
    "b = torch.Tensor(2,3)\n",
    "# c是将[2,3]转为torch张量\n",
    "c = torch.Tensor([2,3])"
   ]
  },
  {
   "cell_type": "code",
   "execution_count": 17,
   "id": "5010794d",
   "metadata": {},
   "outputs": [
    {
     "data": {
      "text/plain": [
       "tensor([[0., 0., 0.],\n",
       "        [0., 0., 0.]])"
      ]
     },
     "execution_count": 17,
     "metadata": {},
     "output_type": "execute_result"
    }
   ],
   "source": [
    "b"
   ]
  },
  {
   "cell_type": "code",
   "execution_count": 18,
   "id": "c7736e1e",
   "metadata": {},
   "outputs": [
    {
     "data": {
      "text/plain": [
       "tensor([2., 3.])"
      ]
     },
     "execution_count": 18,
     "metadata": {},
     "output_type": "execute_result"
    }
   ],
   "source": [
    "c"
   ]
  },
  {
   "cell_type": "code",
   "execution_count": 19,
   "id": "ae783b00",
   "metadata": {},
   "outputs": [
    {
     "data": {
      "text/plain": [
       "tensor([9, 6, 3, 4, 0, 2, 5, 7, 8, 1])"
      ]
     },
     "execution_count": 19,
     "metadata": {},
     "output_type": "execute_result"
    }
   ],
   "source": [
    "#随机生成一个包含十个元素的整数张量\n",
    "torch.randperm(10)"
   ]
  },
  {
   "cell_type": "code",
   "execution_count": 20,
   "id": "31a9cf34",
   "metadata": {},
   "outputs": [
    {
     "name": "stderr",
     "output_type": "stream",
     "text": [
      "C:\\Users\\Dreamer\\AppData\\Local\\Temp\\ipykernel_19956\\3887381110.py:3: UserWarning: torch.range is deprecated and will be removed in a future release because its behavior is inconsistent with Python's range builtin. Instead, use torch.arange, which produces values in [start, end).\n",
      "  torch.range(1,10,2)\n"
     ]
    },
    {
     "data": {
      "text/plain": [
       "tensor([1., 3., 5., 7., 9.])"
      ]
     },
     "execution_count": 20,
     "metadata": {},
     "output_type": "execute_result"
    }
   ],
   "source": [
    "# 将会被移除\n",
    "# begin end step\n",
    "torch.range(1,10,2)"
   ]
  },
  {
   "cell_type": "code",
   "execution_count": 21,
   "id": "acb78828",
   "metadata": {
    "scrolled": true
   },
   "outputs": [
    {
     "data": {
      "text/plain": [
       "tensor([[ 0,  1,  2,  3,  4],\n",
       "        [ 5,  6,  7,  8,  9],\n",
       "        [10, 11, 12, 13, 14]], dtype=torch.int32)"
      ]
     },
     "execution_count": 21,
     "metadata": {},
     "output_type": "execute_result"
    }
   ],
   "source": [
    "torch.tensor(np.arange(15).reshape(3,5))"
   ]
  },
  {
   "cell_type": "code",
   "execution_count": 22,
   "id": "6f12201f",
   "metadata": {},
   "outputs": [],
   "source": [
    "a = torch.tensor(np.arange(15).reshape(5,3))"
   ]
  },
  {
   "cell_type": "code",
   "execution_count": 23,
   "id": "209491ee",
   "metadata": {},
   "outputs": [
    {
     "data": {
      "text/plain": [
       "tensor([[ 0,  1,  2],\n",
       "        [ 3,  4,  5],\n",
       "        [ 6,  7,  8],\n",
       "        [ 9, 10, 11],\n",
       "        [12, 13, 14]], dtype=torch.int32)"
      ]
     },
     "execution_count": 23,
     "metadata": {},
     "output_type": "execute_result"
    }
   ],
   "source": [
    "a"
   ]
  },
  {
   "cell_type": "code",
   "execution_count": 24,
   "id": "c9273ae9",
   "metadata": {},
   "outputs": [
    {
     "data": {
      "text/plain": [
       "tensor([[ 0,  1,  2],\n",
       "        [ 3,  4,  5],\n",
       "        [ 6,  7,  8],\n",
       "        [ 9, 10, 11],\n",
       "        [12, 13, 14]], dtype=torch.int32)"
      ]
     },
     "execution_count": 24,
     "metadata": {},
     "output_type": "execute_result"
    }
   ],
   "source": [
    "b = torch.tensor(np.arange(15).reshape(5,3))\n",
    "b"
   ]
  },
  {
   "cell_type": "code",
   "execution_count": 25,
   "id": "d55e9cb9",
   "metadata": {},
   "outputs": [
    {
     "data": {
      "text/plain": [
       "torch.float32"
      ]
     },
     "execution_count": 25,
     "metadata": {},
     "output_type": "execute_result"
    }
   ],
   "source": [
    "test = torch.randn(2,3)\n",
    "test.dtype"
   ]
  },
  {
   "cell_type": "code",
   "execution_count": 26,
   "id": "c31d84e9",
   "metadata": {},
   "outputs": [
    {
     "data": {
      "text/plain": [
       "torch.float32"
      ]
     },
     "execution_count": 26,
     "metadata": {},
     "output_type": "execute_result"
    }
   ],
   "source": [
    "test = torch.Tensor(2,3)\n",
    "test.dtype"
   ]
  },
  {
   "cell_type": "code",
   "execution_count": 27,
   "id": "92da079a",
   "metadata": {},
   "outputs": [
    {
     "data": {
      "text/plain": [
       "tensor([[0, 0, 0],\n",
       "        [0, 0, 0]], dtype=torch.int32)"
      ]
     },
     "execution_count": 27,
     "metadata": {},
     "output_type": "execute_result"
    }
   ],
   "source": [
    "#创建int32类型张量\n",
    "test = torch.IntTensor(2,3)\n",
    "test"
   ]
  },
  {
   "cell_type": "code",
   "execution_count": 28,
   "id": "0af63aef",
   "metadata": {},
   "outputs": [
    {
     "data": {
      "text/plain": [
       "tensor([[5, 3, 7],\n",
       "        [8, 2, 4],\n",
       "        [1, 0, 6]])"
      ]
     },
     "execution_count": 28,
     "metadata": {},
     "output_type": "execute_result"
    }
   ],
   "source": [
    "# 随机生成一个包含9个元素的向量并reshape为3x3\n",
    "test = torch.randperm(9).reshape(3,3)\n",
    "test"
   ]
  },
  {
   "cell_type": "markdown",
   "id": "93384c58",
   "metadata": {},
   "source": [
    "## numpy生成向量\n"
   ]
  },
  {
   "cell_type": "code",
   "execution_count": 29,
   "id": "9502822a",
   "metadata": {},
   "outputs": [],
   "source": []
  },
  {
   "cell_type": "code",
   "execution_count": 134,
   "id": "aa8fb1b6",
   "metadata": {},
   "outputs": [
    {
     "data": {
      "text/plain": [
       "[2, 3]"
      ]
     },
     "execution_count": 134,
     "metadata": {},
     "output_type": "execute_result"
    }
   ],
   "source": [
    "arr = [1,2,3,4,5,6,7]\n",
    "#从索引1开始到索引3（bubaokuo)结束\n",
    "arr[1:3]"
   ]
  },
  {
   "cell_type": "code",
   "execution_count": 135,
   "id": "f9d5aa22",
   "metadata": {},
   "outputs": [
    {
     "data": {
      "text/plain": [
       "[3, 4, 5, 6, 7]"
      ]
     },
     "execution_count": 135,
     "metadata": {},
     "output_type": "execute_result"
    }
   ],
   "source": [
    "#2开始到结束\n",
    "arr[2:]"
   ]
  },
  {
   "cell_type": "code",
   "execution_count": 136,
   "id": "30a018b1",
   "metadata": {},
   "outputs": [
    {
     "data": {
      "text/plain": [
       "[1, 2, 3, 4, 5, 6, 7]"
      ]
     },
     "execution_count": 136,
     "metadata": {},
     "output_type": "execute_result"
    }
   ],
   "source": [
    "arr[:]"
   ]
  },
  {
   "cell_type": "code",
   "execution_count": 137,
   "id": "0cba1db6",
   "metadata": {},
   "outputs": [
    {
     "data": {
      "text/plain": [
       "7"
      ]
     },
     "execution_count": 137,
     "metadata": {},
     "output_type": "execute_result"
    }
   ],
   "source": [
    "arr[-1]"
   ]
  },
  {
   "cell_type": "code",
   "execution_count": 138,
   "id": "563842c0",
   "metadata": {},
   "outputs": [
    {
     "data": {
      "text/plain": [
       "[2, 3, 4, 5, 6]"
      ]
     },
     "execution_count": 138,
     "metadata": {},
     "output_type": "execute_result"
    }
   ],
   "source": [
    "# 负数作为结束索引，表倒数第几个元素\n",
    "arr[1:-1]"
   ]
  },
  {
   "cell_type": "code",
   "execution_count": 139,
   "id": "ae63bd0f",
   "metadata": {},
   "outputs": [
    {
     "data": {
      "text/plain": [
       "[2, 4, 6]"
      ]
     },
     "execution_count": 139,
     "metadata": {},
     "output_type": "execute_result"
    }
   ],
   "source": [
    "# begin , end , step\n",
    "arr[1:6:2]"
   ]
  },
  {
   "cell_type": "code",
   "execution_count": 140,
   "id": "99747cbe",
   "metadata": {},
   "outputs": [],
   "source": [
    "marr = np.array([[1,2,3],[4,5,6],[7,8,9]])"
   ]
  },
  {
   "cell_type": "code",
   "execution_count": 141,
   "id": "96ba7447",
   "metadata": {},
   "outputs": [
    {
     "data": {
      "text/plain": [
       "array([[2],\n",
       "       [5],\n",
       "       [8]])"
      ]
     },
     "execution_count": 141,
     "metadata": {},
     "output_type": "execute_result"
    }
   ],
   "source": [
    "# 打印所有行的索引1到索引2（不包括）的所有元素\n",
    "marr[:,1:2]"
   ]
  },
  {
   "cell_type": "code",
   "execution_count": 142,
   "id": "8d08c883",
   "metadata": {},
   "outputs": [
    {
     "data": {
      "text/plain": [
       "array([[1, 2],\n",
       "       [4, 5]])"
      ]
     },
     "execution_count": 142,
     "metadata": {},
     "output_type": "execute_result"
    }
   ],
   "source": [
    "marr[:2,:2]"
   ]
  },
  {
   "cell_type": "code",
   "execution_count": 144,
   "id": "a676f454",
   "metadata": {},
   "outputs": [
    {
     "data": {
      "text/plain": [
       "[7, 6, 5, 4, 3, 2, 1]"
      ]
     },
     "execution_count": 144,
     "metadata": {},
     "output_type": "execute_result"
    }
   ],
   "source": [
    "# 倒叙打印\n",
    "arr[::-1]"
   ]
  },
  {
   "cell_type": "code",
   "execution_count": 148,
   "id": "106d8667",
   "metadata": {},
   "outputs": [
    {
     "data": {
      "text/plain": [
       "array([1, 2, 3, 4, 5, 6, 7, 8, 9])"
      ]
     },
     "execution_count": 148,
     "metadata": {},
     "output_type": "execute_result"
    }
   ],
   "source": [
    "# -1在numpy和torch中常用作形状变换\n",
    "# -1表示将一个多维向量拉平成1维\n",
    "reshaped = marr.reshape(-1)\n",
    "reshaped"
   ]
  },
  {
   "cell_type": "code",
   "execution_count": 149,
   "id": "be38eb14",
   "metadata": {},
   "outputs": [
    {
     "data": {
      "text/plain": [
       "array([1, 2, 3])"
      ]
     },
     "execution_count": 149,
     "metadata": {},
     "output_type": "execute_result"
    }
   ],
   "source": [
    "# # 转换为np向量\n",
    "np_array = np.array([1,2,3])\n",
    "np_array"
   ]
  },
  {
   "cell_type": "code",
   "execution_count": 150,
   "id": "14734c64",
   "metadata": {},
   "outputs": [
    {
     "data": {
      "text/plain": [
       "array([[0., 0., 0.],\n",
       "       [0., 0., 0.],\n",
       "       [0., 0., 0.]])"
      ]
     },
     "execution_count": 150,
     "metadata": {},
     "output_type": "execute_result"
    }
   ],
   "source": [
    "zeros_arr = np.zeros((3,3))\n",
    "zeros_arr"
   ]
  },
  {
   "cell_type": "code",
   "execution_count": 152,
   "id": "92cf9db5",
   "metadata": {},
   "outputs": [
    {
     "data": {
      "text/plain": [
       "array([[1., 1., 1.],\n",
       "       [1., 1., 1.],\n",
       "       [1., 1., 1.]])"
      ]
     },
     "execution_count": 152,
     "metadata": {},
     "output_type": "execute_result"
    }
   ],
   "source": [
    "ones_arr = np.ones((3,3))\n",
    "ones_arr"
   ]
  },
  {
   "cell_type": "code",
   "execution_count": 158,
   "id": "36f3ccdd",
   "metadata": {},
   "outputs": [
    {
     "data": {
      "text/plain": [
       "array([[0.86981109, 0.28241126, 0.92976392],\n",
       "       [0.8279922 , 0.81031854, 0.29483974],\n",
       "       [0.60753438, 0.03764529, 0.9119684 ]])"
      ]
     },
     "execution_count": 158,
     "metadata": {},
     "output_type": "execute_result"
    }
   ],
   "source": [
    "# 生成[0,1)之间的随机浮点数，均匀分布\n",
    "random_arr = np.random.rand(3,3)\n",
    "random_arr"
   ]
  },
  {
   "cell_type": "code",
   "execution_count": 159,
   "id": "57dbe3f6",
   "metadata": {},
   "outputs": [
    {
     "data": {
      "text/plain": [
       "array([[ 1.12582186,  0.53749544, -0.11715514],\n",
       "       [ 0.18872151,  0.67981568, -0.69032888],\n",
       "       [ 0.40278509, -0.22428596, -0.1377071 ]])"
      ]
     },
     "execution_count": 159,
     "metadata": {},
     "output_type": "execute_result"
    }
   ],
   "source": [
    "# 生成的数据为均匀分布\n",
    "normal_arr = np.random.randn(3,3)\n",
    "normal_arr"
   ]
  },
  {
   "cell_type": "markdown",
   "id": "76b87928",
   "metadata": {},
   "source": [
    "# 矩阵运算"
   ]
  },
  {
   "cell_type": "code",
   "execution_count": 30,
   "id": "9bf251fd",
   "metadata": {},
   "outputs": [
    {
     "data": {
      "text/plain": [
       "tensor([[ 0,  2,  4],\n",
       "        [ 6,  8, 10],\n",
       "        [12, 14, 16],\n",
       "        [18, 20, 22],\n",
       "        [24, 26, 28]], dtype=torch.int32)"
      ]
     },
     "execution_count": 30,
     "metadata": {},
     "output_type": "execute_result"
    }
   ],
   "source": [
    "torch.add(a,b)"
   ]
  },
  {
   "cell_type": "code",
   "execution_count": 31,
   "id": "82a499b2",
   "metadata": {},
   "outputs": [
    {
     "data": {
      "text/plain": [
       "torch.Size([5, 3])"
      ]
     },
     "execution_count": 31,
     "metadata": {},
     "output_type": "execute_result"
    }
   ],
   "source": [
    "a.size()"
   ]
  },
  {
   "cell_type": "code",
   "execution_count": 32,
   "id": "5ef2f457",
   "metadata": {},
   "outputs": [
    {
     "data": {
      "text/plain": [
       "torch.Size([5, 3])"
      ]
     },
     "execution_count": 32,
     "metadata": {},
     "output_type": "execute_result"
    }
   ],
   "source": [
    "b.size()"
   ]
  },
  {
   "cell_type": "code",
   "execution_count": 33,
   "id": "867475c1",
   "metadata": {},
   "outputs": [
    {
     "data": {
      "text/plain": [
       "tensor([[  0,   1,   4],\n",
       "        [  9,  16,  25],\n",
       "        [ 36,  49,  64],\n",
       "        [ 81, 100, 121],\n",
       "        [144, 169, 196]], dtype=torch.int32)"
      ]
     },
     "execution_count": 33,
     "metadata": {},
     "output_type": "execute_result"
    }
   ],
   "source": [
    "# c = a,b中对应元素相乘\n",
    "c = torch.mul(a,b)\n",
    "c"
   ]
  },
  {
   "cell_type": "code",
   "execution_count": 34,
   "id": "7d07235a",
   "metadata": {},
   "outputs": [],
   "source": [
    "a = a.transpose(0,1)"
   ]
  },
  {
   "cell_type": "code",
   "execution_count": 35,
   "id": "1015c7a9",
   "metadata": {},
   "outputs": [
    {
     "data": {
      "text/plain": [
       "tensor([[ 0,  3,  6,  9, 12],\n",
       "        [ 1,  4,  7, 10, 13],\n",
       "        [ 2,  5,  8, 11, 14]], dtype=torch.int32)"
      ]
     },
     "execution_count": 35,
     "metadata": {},
     "output_type": "execute_result"
    }
   ],
   "source": [
    "a"
   ]
  },
  {
   "cell_type": "code",
   "execution_count": 36,
   "id": "62b464bc",
   "metadata": {},
   "outputs": [
    {
     "data": {
      "text/plain": [
       "torch.Size([3, 5])"
      ]
     },
     "execution_count": 36,
     "metadata": {},
     "output_type": "execute_result"
    }
   ],
   "source": [
    "a.size()"
   ]
  },
  {
   "cell_type": "code",
   "execution_count": 37,
   "id": "14590995",
   "metadata": {},
   "outputs": [
    {
     "data": {
      "text/plain": [
       "torch.Size([5, 3])"
      ]
     },
     "execution_count": 37,
     "metadata": {},
     "output_type": "execute_result"
    }
   ],
   "source": [
    "b.size()"
   ]
  },
  {
   "cell_type": "code",
   "execution_count": 38,
   "id": "89a75045",
   "metadata": {},
   "outputs": [
    {
     "data": {
      "text/plain": [
       "tensor([[270, 300, 330],\n",
       "        [300, 335, 370],\n",
       "        [330, 370, 410]], dtype=torch.int32)"
      ]
     },
     "execution_count": 38,
     "metadata": {},
     "output_type": "execute_result"
    }
   ],
   "source": [
    "# 矩阵的叉乘\n",
    "torch.mm(a,b)"
   ]
  },
  {
   "cell_type": "code",
   "execution_count": 39,
   "id": "d287624d",
   "metadata": {},
   "outputs": [],
   "source": [
    "c = torch.randn(3,3)"
   ]
  },
  {
   "cell_type": "code",
   "execution_count": 40,
   "id": "6cbfc50e",
   "metadata": {},
   "outputs": [
    {
     "data": {
      "text/plain": [
       "tensor([[-0.7455,  1.1094, -0.6378],\n",
       "        [ 1.6807,  0.1407, -1.4125],\n",
       "        [-0.5117,  0.1486, -1.8028]])"
      ]
     },
     "execution_count": 40,
     "metadata": {},
     "output_type": "execute_result"
    }
   ],
   "source": [
    "c"
   ]
  },
  {
   "cell_type": "code",
   "execution_count": 41,
   "id": "6e43c7ae",
   "metadata": {},
   "outputs": [
    {
     "data": {
      "text/plain": [
       "tensor([[0.5558, 1.2307, 0.4068],\n",
       "        [2.8249, 0.0198, 1.9951],\n",
       "        [0.2619, 0.0221, 3.2502]])"
      ]
     },
     "execution_count": 41,
     "metadata": {},
     "output_type": "execute_result"
    }
   ],
   "source": [
    "# c的n次方,矩阵的点乘\n",
    "torch.pow(c,2)"
   ]
  },
  {
   "cell_type": "code",
   "execution_count": 42,
   "id": "fceff540",
   "metadata": {},
   "outputs": [
    {
     "data": {
      "text/plain": [
       "tensor([[  0.,   1.,   4.,   9.],\n",
       "        [ 16.,  25.,  36.,  49.],\n",
       "        [ 64.,  81., 100., 121.],\n",
       "        [144., 169., 196., 225.]])"
      ]
     },
     "execution_count": 42,
     "metadata": {},
     "output_type": "execute_result"
    }
   ],
   "source": [
    "torch.pow(torch.Tensor(np.arange(16).reshape(4,4)),2)"
   ]
  },
  {
   "cell_type": "code",
   "execution_count": 43,
   "id": "aa9e29d7",
   "metadata": {},
   "outputs": [
    {
     "data": {
      "text/plain": [
       "array([0.23923942, 0.35669521, 0.0893751 , 0.23868375, 0.0771466 ])"
      ]
     },
     "execution_count": 43,
     "metadata": {},
     "output_type": "execute_result"
    }
   ],
   "source": [
    "c = np.random.rand(5)\n",
    "c"
   ]
  },
  {
   "cell_type": "code",
   "execution_count": 44,
   "id": "bea84462",
   "metadata": {},
   "outputs": [
    {
     "data": {
      "text/plain": [
       "tensor([0, 0, 0, 0, 0], dtype=torch.int32)"
      ]
     },
     "execution_count": 44,
     "metadata": {},
     "output_type": "execute_result"
    }
   ],
   "source": [
    "c = torch.tensor(c,dtype=torch.int32)\n",
    "c"
   ]
  },
  {
   "cell_type": "code",
   "execution_count": 45,
   "id": "d68fd750",
   "metadata": {},
   "outputs": [
    {
     "data": {
      "text/plain": [
       "tensor([0, 0, 0], dtype=torch.int32)"
      ]
     },
     "execution_count": 45,
     "metadata": {},
     "output_type": "execute_result"
    }
   ],
   "source": [
    "# a,c的类型需要一样\n",
    "torch.mv(a,c)"
   ]
  },
  {
   "cell_type": "markdown",
   "id": "bdc1b6b6",
   "metadata": {},
   "source": [
    "### 所有带 “_”都会对源张量进行修改"
   ]
  },
  {
   "cell_type": "code",
   "execution_count": 46,
   "id": "041c7fcb",
   "metadata": {},
   "outputs": [
    {
     "data": {
      "text/plain": [
       "tensor([[ 0,  3,  6,  9, 12],\n",
       "        [ 1,  4,  7, 10, 13],\n",
       "        [ 2,  5,  8, 11, 14]], dtype=torch.int32)"
      ]
     },
     "execution_count": 46,
     "metadata": {},
     "output_type": "execute_result"
    }
   ],
   "source": [
    "a"
   ]
  },
  {
   "cell_type": "code",
   "execution_count": 47,
   "id": "7a4b5263",
   "metadata": {},
   "outputs": [
    {
     "data": {
      "text/plain": [
       "tensor([[ 1,  4,  7, 10, 13],\n",
       "        [ 2,  5,  8, 11, 14],\n",
       "        [ 3,  6,  9, 12, 15]], dtype=torch.int32)"
      ]
     },
     "execution_count": 47,
     "metadata": {},
     "output_type": "execute_result"
    }
   ],
   "source": [
    "a.add(1)"
   ]
  },
  {
   "cell_type": "code",
   "execution_count": 48,
   "id": "78c07acf",
   "metadata": {},
   "outputs": [
    {
     "data": {
      "text/plain": [
       "tensor([[ 0,  3,  6,  9, 12],\n",
       "        [ 1,  4,  7, 10, 13],\n",
       "        [ 2,  5,  8, 11, 14]], dtype=torch.int32)"
      ]
     },
     "execution_count": 48,
     "metadata": {},
     "output_type": "execute_result"
    }
   ],
   "source": [
    "a"
   ]
  },
  {
   "cell_type": "code",
   "execution_count": 49,
   "id": "19a6e753",
   "metadata": {},
   "outputs": [
    {
     "data": {
      "text/plain": [
       "tensor([[ 1,  4,  7, 10, 13],\n",
       "        [ 2,  5,  8, 11, 14],\n",
       "        [ 3,  6,  9, 12, 15]], dtype=torch.int32)"
      ]
     },
     "execution_count": 49,
     "metadata": {},
     "output_type": "execute_result"
    }
   ],
   "source": [
    "a.add_(1)"
   ]
  },
  {
   "cell_type": "code",
   "execution_count": 50,
   "id": "a44f895d",
   "metadata": {},
   "outputs": [
    {
     "data": {
      "text/plain": [
       "tensor([[ 1,  4,  7, 10, 13],\n",
       "        [ 2,  5,  8, 11, 14],\n",
       "        [ 3,  6,  9, 12, 15]], dtype=torch.int32)"
      ]
     },
     "execution_count": 50,
     "metadata": {},
     "output_type": "execute_result"
    }
   ],
   "source": [
    "a"
   ]
  },
  {
   "cell_type": "markdown",
   "id": "4aa4b818",
   "metadata": {},
   "source": [
    "## 矩阵拼接"
   ]
  },
  {
   "cell_type": "code",
   "execution_count": 51,
   "id": "b11f52a9",
   "metadata": {},
   "outputs": [],
   "source": [
    "a = torch.IntTensor([[1,2,3],[4,5,6]])\n",
    "b= torch.IntTensor([[7,8,9],[10,11,12]])"
   ]
  },
  {
   "cell_type": "code",
   "execution_count": 52,
   "id": "ab252453",
   "metadata": {},
   "outputs": [
    {
     "data": {
      "text/plain": [
       "tensor([[[ 1,  2,  3],\n",
       "         [ 4,  5,  6]],\n",
       "\n",
       "        [[ 7,  8,  9],\n",
       "         [10, 11, 12]]], dtype=torch.int32)"
      ]
     },
     "execution_count": 52,
     "metadata": {},
     "output_type": "execute_result"
    }
   ],
   "source": [
    "# torch.stack((a,b)),[a,b]\n",
    "torch.stack((a,b),dim=0)"
   ]
  },
  {
   "cell_type": "code",
   "execution_count": 53,
   "id": "409edc5b",
   "metadata": {},
   "outputs": [
    {
     "data": {
      "text/plain": [
       "tensor([[[ 1,  2,  3],\n",
       "         [ 7,  8,  9]],\n",
       "\n",
       "        [[ 4,  5,  6],\n",
       "         [10, 11, 12]]], dtype=torch.int32)"
      ]
     },
     "execution_count": 53,
     "metadata": {},
     "output_type": "execute_result"
    }
   ],
   "source": [
    "# [[a[0],b[0]],[a[1],b[1]]]\n",
    "torch.stack((a,b),dim=1)"
   ]
  },
  {
   "cell_type": "code",
   "execution_count": 54,
   "id": "c863f609",
   "metadata": {},
   "outputs": [
    {
     "data": {
      "text/plain": [
       "tensor([[[ 1,  7],\n",
       "         [ 2,  8],\n",
       "         [ 3,  9]],\n",
       "\n",
       "        [[ 4, 10],\n",
       "         [ 5, 11],\n",
       "         [ 6, 12]]], dtype=torch.int32)"
      ]
     },
     "execution_count": 54,
     "metadata": {},
     "output_type": "execute_result"
    }
   ],
   "source": [
    "# [\n",
    "#   [a[0][0],b[0][0]],[a[0][1],b[0][1]],[a[0][2],b[0][2]],\n",
    "#   [a[1][0],b[1][0]],[a[1][1],b[1][1]],[a[1][2],b[1][2]]],\n",
    "#   [a[2][0],b[2][0]],[a[2][1],b[2][1]],[a[2][2],b[2][2]\n",
    "# ]\n",
    "torch.stack((a,b),dim=2)"
   ]
  },
  {
   "cell_type": "markdown",
   "id": "44be564c",
   "metadata": {},
   "source": [
    "### 求导"
   ]
  },
  {
   "cell_type": "code",
   "execution_count": 55,
   "id": "9193792b",
   "metadata": {},
   "outputs": [],
   "source": [
    "# 标量求导\n",
    "x =torch.tensor(-2.0,requires_grad=True)"
   ]
  },
  {
   "cell_type": "code",
   "execution_count": 56,
   "id": "5440a9e0",
   "metadata": {},
   "outputs": [],
   "source": [
    "a = torch.tensor(1.0)\n",
    "b = torch.tensor(2.0)\n",
    "c = torch.tensor(3.0)\n",
    "y = a*torch.pow(x,2)+b*x+c"
   ]
  },
  {
   "cell_type": "code",
   "execution_count": 57,
   "id": "889aa202",
   "metadata": {},
   "outputs": [],
   "source": [
    "y.backward()"
   ]
  },
  {
   "cell_type": "code",
   "execution_count": 58,
   "id": "a7de403e",
   "metadata": {},
   "outputs": [],
   "source": [
    "dy_dx = x.grad"
   ]
  },
  {
   "cell_type": "code",
   "execution_count": 59,
   "id": "c5c3eda3",
   "metadata": {},
   "outputs": [
    {
     "data": {
      "text/plain": [
       "tensor(-2.)"
      ]
     },
     "execution_count": 59,
     "metadata": {},
     "output_type": "execute_result"
    }
   ],
   "source": [
    "dy_dx"
   ]
  },
  {
   "cell_type": "code",
   "execution_count": 60,
   "id": "549590e2",
   "metadata": {},
   "outputs": [],
   "source": [
    "# 非标量求导\n",
    "# requires_grad为True表示该参数需要记录，需要Optim.step()进行更新\n",
    "x = torch.tensor([[-2.0,-1.0],[0.0,1.0]],requires_grad=True)\n",
    "\n",
    "a = torch.tensor(1.0)\n",
    "b = torch.tensor(2.0)\n",
    "c = torch.tensor(3.0)\n",
    "#指定梯度最后将得到的矩阵对应位置点乘\n",
    "gradient=torch.tensor([[1.0,1.0],[1.0,1.0]])\n"
   ]
  },
  {
   "cell_type": "code",
   "execution_count": 61,
   "id": "c2548932",
   "metadata": {},
   "outputs": [],
   "source": [
    "y = a*torch.pow(x,2)+b*x+c"
   ]
  },
  {
   "cell_type": "code",
   "execution_count": 62,
   "id": "dafc93c3",
   "metadata": {},
   "outputs": [],
   "source": [
    "y.backward(gradient = gradient)"
   ]
  },
  {
   "cell_type": "code",
   "execution_count": 63,
   "id": "c3ed207d",
   "metadata": {},
   "outputs": [],
   "source": [
    "dy_dx = x.grad"
   ]
  },
  {
   "cell_type": "code",
   "execution_count": 64,
   "id": "5ce07c91",
   "metadata": {},
   "outputs": [
    {
     "data": {
      "text/plain": [
       "tensor([[-2.,  0.],\n",
       "        [ 2.,  4.]])"
      ]
     },
     "execution_count": 64,
     "metadata": {},
     "output_type": "execute_result"
    }
   ],
   "source": [
    "dy_dx"
   ]
  },
  {
   "cell_type": "markdown",
   "id": "cb87a4f2",
   "metadata": {},
   "source": [
    "### autograd.grad(适合复杂的梯度求导"
   ]
  },
  {
   "cell_type": "code",
   "execution_count": 65,
   "id": "fbf9b2c4",
   "metadata": {},
   "outputs": [],
   "source": [
    "x =torch.tensor(1.0,requires_grad=True)\n",
    "\n",
    "a = torch.tensor(1.0)\n",
    "b = torch.tensor(2.0)\n",
    "c = torch.tensor(3.0)\n",
    "y = a * torch.pow(x, 4) + b * x + c\n",
    "#create_graph设置为True,允许创建更高阶级的导数"
   ]
  },
  {
   "cell_type": "code",
   "execution_count": 66,
   "id": "79e8f8b5",
   "metadata": {},
   "outputs": [
    {
     "data": {
      "text/plain": [
       "tensor(6., grad_fn=<AddBackward0>)"
      ]
     },
     "execution_count": 66,
     "metadata": {},
     "output_type": "execute_result"
    }
   ],
   "source": [
    "dy_dx= torch.autograd.grad(y,x,create_graph=True)[0]\n",
    "dy_dx"
   ]
  },
  {
   "cell_type": "code",
   "execution_count": 67,
   "id": "2d7ce042",
   "metadata": {},
   "outputs": [
    {
     "data": {
      "text/plain": [
       "tensor(12., grad_fn=<MulBackward0>)"
      ]
     },
     "execution_count": 67,
     "metadata": {},
     "output_type": "execute_result"
    }
   ],
   "source": [
    "dy2_dx2 = torch.autograd.grad(dy_dx,x,create_graph=True)[0]\n",
    "dy2_dx2"
   ]
  },
  {
   "cell_type": "code",
   "execution_count": 68,
   "id": "55e4ccd6",
   "metadata": {},
   "outputs": [
    {
     "data": {
      "text/plain": [
       "tensor(24., grad_fn=<MulBackward0>)"
      ]
     },
     "execution_count": 68,
     "metadata": {},
     "output_type": "execute_result"
    }
   ],
   "source": [
    "dy3_dx3 = torch.autograd.grad(dy2_dx2,x,create_graph=True)[0]\n",
    "dy3_dx3"
   ]
  },
  {
   "cell_type": "markdown",
   "id": "1ee02cb0",
   "metadata": {},
   "source": [
    "## DataLoader"
   ]
  },
  {
   "cell_type": "code",
   "execution_count": 69,
   "id": "3ea77c85",
   "metadata": {},
   "outputs": [],
   "source": [
    "# DataLoader(\n",
    "#     dataset,\n",
    "#     batch_size=1,\n",
    "#     shuffle=False,#是否乱序\n",
    "#     sampler=None,\n",
    "#     batch_sampler=None,\n",
    "#     num_workers=0,#多进程读取，设置的进程数\n",
    "#     collate_fn=None,\n",
    "#     pin_memory=False,\n",
    "#     drop_last=False,\n",
    "#     timeout=0,\n",
    "#     worker_init_fn=None,\n",
    "#     multiprocessing_context=None,\n",
    "# )"
   ]
  },
  {
   "cell_type": "code",
   "execution_count": 70,
   "id": "cb0b6a3e",
   "metadata": {},
   "outputs": [],
   "source": [
    "import matplotlib.pyplot as plt"
   ]
  },
  {
   "cell_type": "code",
   "execution_count": 71,
   "id": "99ea0374",
   "metadata": {},
   "outputs": [],
   "source": [
    "from torch.utils.data import Dataset,DataLoader"
   ]
  },
  {
   "cell_type": "code",
   "execution_count": 111,
   "id": "e10d9f2a",
   "metadata": {},
   "outputs": [],
   "source": [
    "\n",
    "# 定义数据集\n",
    "class DiabetesDateSet(Dataset):\n",
    "    def __init__(self,filepath):\n",
    "        xy = np.loadtxt(filepath,delimiter=',',dtype=np.float32,encoding='utf-8')\n",
    "        self.len = xy.shape[0]\n",
    "        # 取出所有行，并去掉最后一列\n",
    "        self.x_data = torch.from_numpy(xy[:,:-1])\n",
    "        print(self.x_data)\n",
    "        #取出所有列，确保y_data为二维数组\n",
    "        self.y_data = torch.from_numpy(xy[:,[-1]])\n",
    "        print(self.y_data)\n",
    "    def __getitem__(self,index):\n",
    "        return self.x_data[index],self.y_data[index]\n",
    "    \n",
    "    def __len__(self):\n",
    "        return self.len"
   ]
  },
  {
   "cell_type": "code",
   "execution_count": 112,
   "id": "3c17d21d",
   "metadata": {},
   "outputs": [
    {
     "name": "stdout",
     "output_type": "stream",
     "text": [
      "tensor([[-0.2941,  0.4874,  0.1803,  ...,  0.0015, -0.5312, -0.0333],\n",
      "        [-0.8824, -0.1457,  0.0820,  ..., -0.2072, -0.7669, -0.6667],\n",
      "        [-0.0588,  0.8392,  0.0492,  ..., -0.3055, -0.4927, -0.6333],\n",
      "        ...,\n",
      "        [-0.4118,  0.2161,  0.1803,  ..., -0.2191, -0.8574, -0.7000],\n",
      "        [-0.8824,  0.2663, -0.0164,  ..., -0.1028, -0.7686, -0.1333],\n",
      "        [-0.8824, -0.0653,  0.1475,  ..., -0.0939, -0.7976, -0.9333]])\n",
      "tensor([[0.],\n",
      "        [1.],\n",
      "        [0.],\n",
      "        [1.],\n",
      "        [0.],\n",
      "        [1.],\n",
      "        [0.],\n",
      "        [1.],\n",
      "        [0.],\n",
      "        [0.],\n",
      "        [1.],\n",
      "        [0.],\n",
      "        [1.],\n",
      "        [0.],\n",
      "        [0.],\n",
      "        [0.],\n",
      "        [0.],\n",
      "        [1.],\n",
      "        [0.],\n",
      "        [1.],\n",
      "        [1.],\n",
      "        [0.],\n",
      "        [0.],\n",
      "        [0.],\n",
      "        [0.],\n",
      "        [1.],\n",
      "        [1.],\n",
      "        [1.],\n",
      "        [1.],\n",
      "        [0.],\n",
      "        [1.],\n",
      "        [1.],\n",
      "        [1.],\n",
      "        [1.],\n",
      "        [1.],\n",
      "        [0.],\n",
      "        [0.],\n",
      "        [0.],\n",
      "        [1.],\n",
      "        [1.],\n",
      "        [1.],\n",
      "        [0.],\n",
      "        [1.],\n",
      "        [0.],\n",
      "        [1.],\n",
      "        [1.],\n",
      "        [0.],\n",
      "        [1.],\n",
      "        [1.],\n",
      "        [1.],\n",
      "        [1.],\n",
      "        [0.],\n",
      "        [1.],\n",
      "        [1.],\n",
      "        [0.],\n",
      "        [1.],\n",
      "        [1.],\n",
      "        [1.],\n",
      "        [1.],\n",
      "        [0.],\n",
      "        [1.],\n",
      "        [1.],\n",
      "        [0.],\n",
      "        [1.],\n",
      "        [0.],\n",
      "        [1.],\n",
      "        [1.],\n",
      "        [1.],\n",
      "        [0.],\n",
      "        [1.],\n",
      "        [0.],\n",
      "        [1.],\n",
      "        [1.],\n",
      "        [1.],\n",
      "        [1.],\n",
      "        [1.],\n",
      "        [0.],\n",
      "        [1.],\n",
      "        [1.],\n",
      "        [1.],\n",
      "        [1.],\n",
      "        [1.],\n",
      "        [0.],\n",
      "        [1.],\n",
      "        [1.],\n",
      "        [1.],\n",
      "        [0.],\n",
      "        [1.],\n",
      "        [1.],\n",
      "        [1.],\n",
      "        [1.],\n",
      "        [0.],\n",
      "        [1.],\n",
      "        [1.],\n",
      "        [1.],\n",
      "        [1.],\n",
      "        [1.],\n",
      "        [0.],\n",
      "        [0.],\n",
      "        [1.],\n",
      "        [1.],\n",
      "        [1.],\n",
      "        [1.],\n",
      "        [1.],\n",
      "        [1.],\n",
      "        [1.],\n",
      "        [1.],\n",
      "        [0.],\n",
      "        [0.],\n",
      "        [0.],\n",
      "        [1.],\n",
      "        [1.],\n",
      "        [0.],\n",
      "        [0.],\n",
      "        [0.],\n",
      "        [1.],\n",
      "        [1.],\n",
      "        [1.],\n",
      "        [0.],\n",
      "        [1.],\n",
      "        [1.],\n",
      "        [1.],\n",
      "        [0.],\n",
      "        [0.],\n",
      "        [1.],\n",
      "        [1.],\n",
      "        [0.],\n",
      "        [0.],\n",
      "        [0.],\n",
      "        [0.],\n",
      "        [0.],\n",
      "        [1.],\n",
      "        [1.],\n",
      "        [1.],\n",
      "        [1.],\n",
      "        [1.],\n",
      "        [1.],\n",
      "        [1.],\n",
      "        [1.],\n",
      "        [1.],\n",
      "        [1.],\n",
      "        [0.],\n",
      "        [1.],\n",
      "        [1.],\n",
      "        [1.],\n",
      "        [1.],\n",
      "        [1.],\n",
      "        [1.],\n",
      "        [1.],\n",
      "        [1.],\n",
      "        [0.],\n",
      "        [1.],\n",
      "        [0.],\n",
      "        [0.],\n",
      "        [1.],\n",
      "        [1.],\n",
      "        [1.],\n",
      "        [0.],\n",
      "        [1.],\n",
      "        [1.],\n",
      "        [1.],\n",
      "        [1.],\n",
      "        [0.],\n",
      "        [0.],\n",
      "        [1.],\n",
      "        [1.],\n",
      "        [1.],\n",
      "        [1.],\n",
      "        [0.],\n",
      "        [0.],\n",
      "        [1.],\n",
      "        [1.],\n",
      "        [1.],\n",
      "        [0.],\n",
      "        [1.],\n",
      "        [0.],\n",
      "        [1.],\n",
      "        [0.],\n",
      "        [1.],\n",
      "        [1.],\n",
      "        [1.],\n",
      "        [1.],\n",
      "        [1.],\n",
      "        [0.],\n",
      "        [0.],\n",
      "        [0.],\n",
      "        [0.],\n",
      "        [0.],\n",
      "        [1.],\n",
      "        [1.],\n",
      "        [0.],\n",
      "        [0.],\n",
      "        [1.],\n",
      "        [0.],\n",
      "        [1.],\n",
      "        [0.],\n",
      "        [0.],\n",
      "        [0.],\n",
      "        [1.],\n",
      "        [1.],\n",
      "        [1.],\n",
      "        [1.],\n",
      "        [1.],\n",
      "        [1.],\n",
      "        [0.],\n",
      "        [0.],\n",
      "        [1.],\n",
      "        [0.],\n",
      "        [1.],\n",
      "        [1.],\n",
      "        [1.],\n",
      "        [0.],\n",
      "        [0.],\n",
      "        [0.],\n",
      "        [0.],\n",
      "        [1.],\n",
      "        [0.],\n",
      "        [0.],\n",
      "        [0.],\n",
      "        [0.],\n",
      "        [1.],\n",
      "        [1.],\n",
      "        [1.],\n",
      "        [1.],\n",
      "        [1.],\n",
      "        [0.],\n",
      "        [1.],\n",
      "        [1.],\n",
      "        [0.],\n",
      "        [0.],\n",
      "        [1.],\n",
      "        [1.],\n",
      "        [1.],\n",
      "        [0.],\n",
      "        [0.],\n",
      "        [0.],\n",
      "        [1.],\n",
      "        [1.],\n",
      "        [1.],\n",
      "        [0.],\n",
      "        [0.],\n",
      "        [1.],\n",
      "        [0.],\n",
      "        [1.],\n",
      "        [1.],\n",
      "        [1.],\n",
      "        [1.],\n",
      "        [1.],\n",
      "        [1.],\n",
      "        [1.],\n",
      "        [1.],\n",
      "        [0.],\n",
      "        [0.],\n",
      "        [1.],\n",
      "        [1.],\n",
      "        [1.],\n",
      "        [1.],\n",
      "        [0.],\n",
      "        [1.],\n",
      "        [1.],\n",
      "        [0.],\n",
      "        [1.],\n",
      "        [0.],\n",
      "        [1.],\n",
      "        [1.],\n",
      "        [0.],\n",
      "        [0.],\n",
      "        [1.],\n",
      "        [1.],\n",
      "        [1.],\n",
      "        [1.],\n",
      "        [1.],\n",
      "        [0.],\n",
      "        [1.],\n",
      "        [1.],\n",
      "        [1.],\n",
      "        [0.],\n",
      "        [1.],\n",
      "        [1.],\n",
      "        [0.],\n",
      "        [0.],\n",
      "        [1.],\n",
      "        [0.],\n",
      "        [1.],\n",
      "        [1.],\n",
      "        [1.],\n",
      "        [0.],\n",
      "        [0.],\n",
      "        [0.],\n",
      "        [1.],\n",
      "        [1.],\n",
      "        [0.],\n",
      "        [1.],\n",
      "        [0.],\n",
      "        [1.],\n",
      "        [0.],\n",
      "        [0.],\n",
      "        [1.],\n",
      "        [0.],\n",
      "        [1.],\n",
      "        [1.],\n",
      "        [0.],\n",
      "        [1.],\n",
      "        [0.],\n",
      "        [0.],\n",
      "        [1.],\n",
      "        [1.],\n",
      "        [0.],\n",
      "        [1.],\n",
      "        [0.],\n",
      "        [1.],\n",
      "        [1.],\n",
      "        [0.],\n",
      "        [1.],\n",
      "        [0.],\n",
      "        [1.],\n",
      "        [0.],\n",
      "        [0.],\n",
      "        [0.],\n",
      "        [1.],\n",
      "        [1.],\n",
      "        [0.],\n",
      "        [1.],\n",
      "        [0.],\n",
      "        [1.],\n",
      "        [1.],\n",
      "        [1.],\n",
      "        [0.],\n",
      "        [1.],\n",
      "        [1.],\n",
      "        [1.],\n",
      "        [1.],\n",
      "        [0.],\n",
      "        [0.],\n",
      "        [0.],\n",
      "        [1.],\n",
      "        [1.],\n",
      "        [1.],\n",
      "        [1.],\n",
      "        [1.],\n",
      "        [1.],\n",
      "        [1.],\n",
      "        [1.],\n",
      "        [1.],\n",
      "        [0.],\n",
      "        [1.],\n",
      "        [1.],\n",
      "        [1.],\n",
      "        [1.],\n",
      "        [1.],\n",
      "        [0.],\n",
      "        [0.],\n",
      "        [0.],\n",
      "        [1.],\n",
      "        [0.],\n",
      "        [0.],\n",
      "        [1.],\n",
      "        [1.],\n",
      "        [0.],\n",
      "        [1.],\n",
      "        [1.],\n",
      "        [0.],\n",
      "        [1.],\n",
      "        [1.],\n",
      "        [0.],\n",
      "        [0.],\n",
      "        [1.],\n",
      "        [1.],\n",
      "        [1.],\n",
      "        [1.],\n",
      "        [0.],\n",
      "        [1.],\n",
      "        [1.],\n",
      "        [0.],\n",
      "        [1.],\n",
      "        [1.],\n",
      "        [1.],\n",
      "        [1.],\n",
      "        [1.],\n",
      "        [1.],\n",
      "        [1.],\n",
      "        [0.],\n",
      "        [0.],\n",
      "        [0.],\n",
      "        [1.],\n",
      "        [1.],\n",
      "        [0.],\n",
      "        [1.],\n",
      "        [1.],\n",
      "        [0.],\n",
      "        [1.],\n",
      "        [1.],\n",
      "        [0.],\n",
      "        [1.],\n",
      "        [0.],\n",
      "        [0.],\n",
      "        [0.],\n",
      "        [1.],\n",
      "        [0.],\n",
      "        [1.],\n",
      "        [0.],\n",
      "        [1.],\n",
      "        [0.],\n",
      "        [0.],\n",
      "        [1.],\n",
      "        [1.],\n",
      "        [1.],\n",
      "        [1.],\n",
      "        [0.],\n",
      "        [0.],\n",
      "        [1.],\n",
      "        [0.],\n",
      "        [1.],\n",
      "        [0.],\n",
      "        [1.],\n",
      "        [1.],\n",
      "        [1.],\n",
      "        [1.],\n",
      "        [0.],\n",
      "        [0.],\n",
      "        [1.],\n",
      "        [0.],\n",
      "        [1.],\n",
      "        [0.],\n",
      "        [1.],\n",
      "        [1.],\n",
      "        [1.],\n",
      "        [1.],\n",
      "        [1.],\n",
      "        [0.],\n",
      "        [1.],\n",
      "        [1.],\n",
      "        [1.],\n",
      "        [1.],\n",
      "        [0.],\n",
      "        [1.],\n",
      "        [1.],\n",
      "        [0.],\n",
      "        [0.],\n",
      "        [0.],\n",
      "        [1.],\n",
      "        [1.],\n",
      "        [0.],\n",
      "        [1.],\n",
      "        [1.],\n",
      "        [0.],\n",
      "        [1.],\n",
      "        [1.],\n",
      "        [1.],\n",
      "        [0.],\n",
      "        [1.],\n",
      "        [1.],\n",
      "        [1.],\n",
      "        [1.],\n",
      "        [1.],\n",
      "        [1.],\n",
      "        [1.],\n",
      "        [1.],\n",
      "        [1.],\n",
      "        [1.],\n",
      "        [1.],\n",
      "        [0.],\n",
      "        [1.],\n",
      "        [1.],\n",
      "        [1.],\n",
      "        [1.],\n",
      "        [1.],\n",
      "        [1.],\n",
      "        [1.],\n",
      "        [0.],\n",
      "        [1.],\n",
      "        [1.],\n",
      "        [1.],\n",
      "        [0.],\n",
      "        [1.],\n",
      "        [1.],\n",
      "        [1.],\n",
      "        [0.],\n",
      "        [0.],\n",
      "        [1.],\n",
      "        [1.],\n",
      "        [1.],\n",
      "        [1.],\n",
      "        [1.],\n",
      "        [1.],\n",
      "        [1.],\n",
      "        [0.],\n",
      "        [1.],\n",
      "        [1.],\n",
      "        [1.],\n",
      "        [1.],\n",
      "        [0.],\n",
      "        [1.],\n",
      "        [1.],\n",
      "        [1.],\n",
      "        [0.],\n",
      "        [1.],\n",
      "        [1.],\n",
      "        [1.],\n",
      "        [0.],\n",
      "        [1.],\n",
      "        [1.],\n",
      "        [1.],\n",
      "        [0.],\n",
      "        [1.],\n",
      "        [1.],\n",
      "        [1.],\n",
      "        [1.],\n",
      "        [0.],\n",
      "        [0.],\n",
      "        [1.],\n",
      "        [1.],\n",
      "        [1.],\n",
      "        [1.],\n",
      "        [1.],\n",
      "        [0.],\n",
      "        [1.],\n",
      "        [1.],\n",
      "        [1.],\n",
      "        [1.],\n",
      "        [1.],\n",
      "        [1.],\n",
      "        [1.],\n",
      "        [1.],\n",
      "        [1.],\n",
      "        [1.],\n",
      "        [1.],\n",
      "        [0.],\n",
      "        [1.],\n",
      "        [1.],\n",
      "        [1.],\n",
      "        [0.],\n",
      "        [0.],\n",
      "        [0.],\n",
      "        [0.],\n",
      "        [1.],\n",
      "        [1.],\n",
      "        [0.],\n",
      "        [0.],\n",
      "        [1.],\n",
      "        [1.],\n",
      "        [1.],\n",
      "        [1.],\n",
      "        [1.],\n",
      "        [1.],\n",
      "        [1.],\n",
      "        [1.],\n",
      "        [1.],\n",
      "        [1.],\n",
      "        [1.],\n",
      "        [1.],\n",
      "        [1.],\n",
      "        [0.],\n",
      "        [0.],\n",
      "        [1.],\n",
      "        [1.],\n",
      "        [1.],\n",
      "        [1.],\n",
      "        [1.],\n",
      "        [1.],\n",
      "        [1.],\n",
      "        [0.],\n",
      "        [1.],\n",
      "        [1.],\n",
      "        [1.],\n",
      "        [1.],\n",
      "        [1.],\n",
      "        [1.],\n",
      "        [1.],\n",
      "        [0.],\n",
      "        [1.],\n",
      "        [0.],\n",
      "        [0.],\n",
      "        [1.],\n",
      "        [1.],\n",
      "        [1.],\n",
      "        [0.],\n",
      "        [1.],\n",
      "        [0.],\n",
      "        [1.],\n",
      "        [0.],\n",
      "        [1.],\n",
      "        [0.],\n",
      "        [1.],\n",
      "        [0.],\n",
      "        [1.],\n",
      "        [1.],\n",
      "        [0.],\n",
      "        [1.],\n",
      "        [1.],\n",
      "        [0.],\n",
      "        [1.],\n",
      "        [1.],\n",
      "        [1.],\n",
      "        [1.],\n",
      "        [0.],\n",
      "        [0.],\n",
      "        [1.],\n",
      "        [0.],\n",
      "        [1.],\n",
      "        [1.],\n",
      "        [1.],\n",
      "        [1.],\n",
      "        [0.],\n",
      "        [0.],\n",
      "        [1.],\n",
      "        [0.],\n",
      "        [1.],\n",
      "        [1.],\n",
      "        [1.],\n",
      "        [0.],\n",
      "        [0.],\n",
      "        [1.],\n",
      "        [1.],\n",
      "        [1.],\n",
      "        [1.],\n",
      "        [1.],\n",
      "        [1.],\n",
      "        [1.],\n",
      "        [1.],\n",
      "        [1.],\n",
      "        [1.],\n",
      "        [0.],\n",
      "        [1.],\n",
      "        [1.],\n",
      "        [1.],\n",
      "        [1.],\n",
      "        [0.],\n",
      "        [1.],\n",
      "        [1.],\n",
      "        [0.],\n",
      "        [1.],\n",
      "        [1.],\n",
      "        [1.],\n",
      "        [0.],\n",
      "        [1.],\n",
      "        [1.],\n",
      "        [1.],\n",
      "        [0.],\n",
      "        [0.],\n",
      "        [0.],\n",
      "        [1.],\n",
      "        [1.],\n",
      "        [1.],\n",
      "        [1.],\n",
      "        [1.],\n",
      "        [1.],\n",
      "        [0.],\n",
      "        [1.],\n",
      "        [1.],\n",
      "        [0.],\n",
      "        [1.],\n",
      "        [0.],\n",
      "        [0.],\n",
      "        [0.],\n",
      "        [0.],\n",
      "        [1.],\n",
      "        [0.],\n",
      "        [0.],\n",
      "        [1.],\n",
      "        [1.],\n",
      "        [1.],\n",
      "        [1.],\n",
      "        [1.],\n",
      "        [1.],\n",
      "        [1.],\n",
      "        [0.],\n",
      "        [0.],\n",
      "        [1.],\n",
      "        [0.],\n",
      "        [1.],\n",
      "        [1.],\n",
      "        [0.],\n",
      "        [1.],\n",
      "        [0.],\n",
      "        [1.],\n",
      "        [1.],\n",
      "        [1.],\n",
      "        [1.],\n",
      "        [1.],\n",
      "        [0.],\n",
      "        [1.],\n",
      "        [0.],\n",
      "        [1.],\n",
      "        [0.],\n",
      "        [1.],\n",
      "        [0.],\n",
      "        [0.],\n",
      "        [1.],\n",
      "        [1.],\n",
      "        [1.],\n",
      "        [1.],\n",
      "        [0.],\n",
      "        [0.],\n",
      "        [1.],\n",
      "        [1.],\n",
      "        [1.],\n",
      "        [0.],\n",
      "        [1.],\n",
      "        [0.],\n",
      "        [0.],\n",
      "        [1.],\n",
      "        [1.],\n",
      "        [0.],\n",
      "        [1.],\n",
      "        [1.],\n",
      "        [0.],\n",
      "        [0.],\n",
      "        [1.],\n",
      "        [1.],\n",
      "        [0.],\n",
      "        [1.],\n",
      "        [1.],\n",
      "        [0.],\n",
      "        [1.],\n",
      "        [1.],\n",
      "        [1.],\n",
      "        [1.],\n",
      "        [1.],\n",
      "        [1.],\n",
      "        [1.],\n",
      "        [0.],\n",
      "        [0.],\n",
      "        [0.],\n",
      "        [1.],\n",
      "        [1.],\n",
      "        [1.],\n",
      "        [1.],\n",
      "        [1.],\n",
      "        [1.],\n",
      "        [0.],\n",
      "        [0.],\n",
      "        [1.],\n",
      "        [1.],\n",
      "        [0.],\n",
      "        [1.],\n",
      "        [1.],\n",
      "        [0.],\n",
      "        [1.],\n",
      "        [0.],\n",
      "        [0.],\n",
      "        [0.],\n",
      "        [1.],\n",
      "        [1.],\n",
      "        [0.],\n",
      "        [0.],\n",
      "        [0.],\n",
      "        [1.],\n",
      "        [0.],\n",
      "        [1.],\n",
      "        [0.],\n",
      "        [1.],\n",
      "        [0.],\n",
      "        [1.],\n",
      "        [1.],\n",
      "        [1.],\n",
      "        [1.],\n",
      "        [0.],\n",
      "        [1.]])\n"
     ]
    }
   ],
   "source": [
    "dataset = DiabetesDateSet('diabetes.csv')\n",
    "train_loader = DataLoader(dataset=dataset,batch_size=32,shuffle=True,num_workers=0,drop_last=True)\n"
   ]
  },
  {
   "cell_type": "code",
   "execution_count": 98,
   "id": "b9b2ff50",
   "metadata": {},
   "outputs": [],
   "source": [
    "class FNNModel(torch.nn.Module):\n",
    "    def __init__(self):\n",
    "        super(FNNModel,self).__init__()\n",
    "        self.linear1 = torch.nn.Linear(8,6)\n",
    "        self.linear2 = torch.nn.Linear(6,4)\n",
    "        self.linear3 = torch.nn.Linear(4,2)\n",
    "        self.linear4 = torch.nn.Linear(2,1)\n",
    "        self.sigmoid = torch.nn.Sigmoid()\n",
    "    \n",
    "    def forward(self,x):\n",
    "        x = self.sigmoid(self.linear1(x))\n",
    "        x = self.sigmoid(self.linear2(x))\n",
    "        x = self.sigmoid(self.linear3(x))\n",
    "        x = self.sigmoid(self.linear4(x))\n",
    "        return x"
   ]
  },
  {
   "cell_type": "code",
   "execution_count": 99,
   "id": "3ff74dec",
   "metadata": {},
   "outputs": [],
   "source": [
    "model = FNNModel()"
   ]
  },
  {
   "cell_type": "code",
   "execution_count": 100,
   "id": "c070cee7",
   "metadata": {},
   "outputs": [],
   "source": [
    "# 二元交叉熵损失函数 Binary Cross-entropy Loss\n",
    "# 常用于二分类或则多标签分类\n",
    "criterion = torch.nn.BCELoss(reduction='mean')\n",
    "optimizer = torch.optim.SGD(model.parameters(),lr=0.01)"
   ]
  },
  {
   "cell_type": "code",
   "execution_count": 101,
   "id": "b921adc4",
   "metadata": {},
   "outputs": [],
   "source": [
    "epoch_list = []\n",
    "loss_list = []"
   ]
  },
  {
   "cell_type": "code",
   "execution_count": 108,
   "id": "409aaa58",
   "metadata": {},
   "outputs": [
    {
     "name": "stdout",
     "output_type": "stream",
     "text": [
      "Epoch[1/100,loss:0.645264]\n",
      "Epoch[2/100,loss:0.645283]\n",
      "Epoch[3/100,loss:0.645274]\n",
      "Epoch[4/100,loss:0.641830]\n",
      "Epoch[5/100,loss:0.647040]\n",
      "Epoch[6/100,loss:0.645299]\n",
      "Epoch[7/100,loss:0.644415]\n",
      "Epoch[8/100,loss:0.645264]\n",
      "Epoch[9/100,loss:0.645291]\n",
      "Epoch[10/100,loss:0.643564]\n",
      "Epoch[11/100,loss:0.646990]\n",
      "Epoch[12/100,loss:0.643547]\n",
      "Epoch[13/100,loss:0.648718]\n",
      "Epoch[14/100,loss:0.645283]\n",
      "Epoch[15/100,loss:0.646137]\n",
      "Epoch[16/100,loss:0.645283]\n",
      "Epoch[17/100,loss:0.643547]\n",
      "Epoch[18/100,loss:0.647838]\n",
      "Epoch[19/100,loss:0.644412]\n",
      "Epoch[20/100,loss:0.643562]\n",
      "Epoch[21/100,loss:0.644425]\n",
      "Epoch[22/100,loss:0.646142]\n",
      "Epoch[23/100,loss:0.646145]\n",
      "Epoch[24/100,loss:0.647021]\n",
      "Epoch[25/100,loss:0.648736]\n",
      "Epoch[26/100,loss:0.646994]\n",
      "Epoch[27/100,loss:0.641848]\n",
      "Epoch[28/100,loss:0.640975]\n",
      "Epoch[29/100,loss:0.647016]\n",
      "Epoch[30/100,loss:0.643544]\n",
      "Epoch[31/100,loss:0.645262]\n",
      "Epoch[32/100,loss:0.647852]\n",
      "Epoch[33/100,loss:0.646991]\n",
      "Epoch[34/100,loss:0.645258]\n",
      "Epoch[35/100,loss:0.646148]\n",
      "Epoch[36/100,loss:0.646996]\n",
      "Epoch[37/100,loss:0.644422]\n",
      "Epoch[38/100,loss:0.646999]\n",
      "Epoch[39/100,loss:0.645277]\n",
      "Epoch[40/100,loss:0.643552]\n",
      "Epoch[41/100,loss:0.644422]\n",
      "Epoch[42/100,loss:0.645273]\n",
      "Epoch[43/100,loss:0.643534]\n",
      "Epoch[44/100,loss:0.645270]\n",
      "Epoch[45/100,loss:0.645267]\n",
      "Epoch[46/100,loss:0.644420]\n",
      "Epoch[47/100,loss:0.646139]\n",
      "Epoch[48/100,loss:0.646154]\n",
      "Epoch[49/100,loss:0.647011]\n",
      "Epoch[50/100,loss:0.642685]\n",
      "Epoch[51/100,loss:0.646150]\n",
      "Epoch[52/100,loss:0.644410]\n",
      "Epoch[53/100,loss:0.644412]\n",
      "Epoch[54/100,loss:0.644446]\n",
      "Epoch[55/100,loss:0.640966]\n",
      "Epoch[56/100,loss:0.640107]\n",
      "Epoch[57/100,loss:0.646136]\n",
      "Epoch[58/100,loss:0.644440]\n",
      "Epoch[59/100,loss:0.645274]\n",
      "Epoch[60/100,loss:0.645276]\n",
      "Epoch[61/100,loss:0.647046]\n",
      "Epoch[62/100,loss:0.642674]\n",
      "Epoch[63/100,loss:0.645266]\n",
      "Epoch[64/100,loss:0.643533]\n",
      "Epoch[65/100,loss:0.646160]\n",
      "Epoch[66/100,loss:0.642672]\n",
      "Epoch[67/100,loss:0.646135]\n",
      "Epoch[68/100,loss:0.648731]\n",
      "Epoch[69/100,loss:0.644451]\n",
      "Epoch[70/100,loss:0.645260]\n",
      "Epoch[71/100,loss:0.645285]\n",
      "Epoch[72/100,loss:0.642678]\n",
      "Epoch[73/100,loss:0.648732]\n",
      "Epoch[74/100,loss:0.645268]\n",
      "Epoch[75/100,loss:0.646137]\n",
      "Epoch[76/100,loss:0.647004]\n",
      "Epoch[77/100,loss:0.647007]\n",
      "Epoch[78/100,loss:0.646142]\n",
      "Epoch[79/100,loss:0.646171]\n",
      "Epoch[80/100,loss:0.646145]\n",
      "Epoch[81/100,loss:0.646132]\n",
      "Epoch[82/100,loss:0.645280]\n",
      "Epoch[83/100,loss:0.646131]\n",
      "Epoch[84/100,loss:0.643582]\n",
      "Epoch[85/100,loss:0.646162]\n",
      "Epoch[86/100,loss:0.646128]\n",
      "Epoch[87/100,loss:0.648706]\n",
      "Epoch[88/100,loss:0.640999]\n",
      "Epoch[89/100,loss:0.646141]\n",
      "Epoch[90/100,loss:0.641867]\n",
      "Epoch[91/100,loss:0.645255]\n",
      "Epoch[92/100,loss:0.649567]\n",
      "Epoch[93/100,loss:0.647861]\n",
      "Epoch[94/100,loss:0.645288]\n",
      "Epoch[95/100,loss:0.647873]\n",
      "Epoch[96/100,loss:0.647866]\n",
      "Epoch[97/100,loss:0.646994]\n",
      "Epoch[98/100,loss:0.647008]\n",
      "Epoch[99/100,loss:0.644425]\n",
      "Epoch[100/100,loss:0.644440]\n"
     ]
    },
    {
     "data": {
      "image/png": "[encoded data removed]",
      "text/plain": [
       "<Figure size 640x480 with 1 Axes>"
      ]
     },
     "metadata": {},
     "output_type": "display_data"
    }
   ],
   "source": [
    "if __name__ == '__main__':\n",
    "    for epoch in range(100):\n",
    "        loss_one_epoch = 0\n",
    "        for i,data in enumerate(train_loader,0):\n",
    "#             print(i,data)\n",
    "            inputs,labels=data\n",
    "            y_pred = model(inputs)\n",
    "            loss = criterion(y_pred,labels)\n",
    "#             print(loss)\n",
    "            loss_one_epoch +=loss.item()\n",
    "            \n",
    "            optimizer.zero_grad()\n",
    "            loss.backward()\n",
    "            optimizer.step()\n",
    "        \n",
    "        loss_list.append(loss_one_epoch/23)\n",
    "        epoch_list.append(epoch)\n",
    "        print('Epoch[{}/{},loss:{:.6f}]'.format(epoch+1,100,loss_one_epoch/23))\n",
    "        \n",
    "    plt.plot(epoch_list,loss_list)\n",
    "    plt.xlabel('epoch')\n",
    "    plt.ylabel('loss')\n",
    "    plt.show"
   ]
  },
  {
   "cell_type": "code",
   "execution_count": null,
   "id": "70b6b855",
   "metadata": {},
   "outputs": [],
   "source": []
  }
 ],
 "metadata": {
  "kernelspec": {
   "display_name": "torch_learn",
   "language": "python",
   "name": "torch_learn"
  },
  "language_info": {
   "codemirror_mode": {
    "name": "ipython",
    "version": 3
   },
   "file_extension": ".py",
   "mimetype": "text/x-python",
   "name": "python",
   "nbconvert_exporter": "python",
   "pygments_lexer": "ipython3",
   "version": "3.10.4"
  }
 },
 "nbformat": 4,
 "nbformat_minor": 5
}
